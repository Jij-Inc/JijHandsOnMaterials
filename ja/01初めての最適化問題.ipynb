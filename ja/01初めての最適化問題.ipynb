{
 "cells": [
  {
   "attachments": {},
   "cell_type": "markdown",
   "metadata": {},
   "source": [
    "# Introduction of mathematical optimization and Ising optimization"
   ]
  },
  {
   "cell_type": "code",
   "execution_count": 3,
   "metadata": {},
   "outputs": [],
   "source": [
    "# 各種ツールのupdate\n",
    "!pip install -U jijzept jijmodeling\n",
    "!pip install jijmodeling-transpiler matplotlib\n",
    "!pip install -U jijmodeling-transpiler"
   ]
  },
  {
   "attachments": {},
   "cell_type": "markdown",
   "metadata": {},
   "source": [
    "## 本章の構成\n",
    "\n",
    "1. JijModelingを使った最適化問題のモデリング方法を学ぶ　\n",
    "2. ジョブショップスケジューリング問題を通して具体的な問題を解いてみる\n",
    "3. JijModeling, JijZeptの裏でどのようにイジングソルバーに情報が伝わっているのかを知る\n",
    "4. イジングソルバーがどのようにして解いているのかを知る"
   ]
  },
  {
   "attachments": {},
   "cell_type": "markdown",
   "metadata": {},
   "source": [
    "## JijModelingを使ったモデリング\n",
    "\n",
    "Documentation: https://www.documentation.jijzept.com/docs/jijmodeling_docs/0quick_start\n",
    "\n",
    "![](images/JM_Compile.png)"
   ]
  },
  {
   "cell_type": "code",
   "execution_count": 4,
   "metadata": {},
   "outputs": [],
   "source": [
    "# ライブラリのインポート\n",
    "import jijzept as jz\n",
    "import jijmodeling as jm\n",
    "import jijmodeling.transpiler as jmt"
   ]
  },
  {
   "attachments": {},
   "cell_type": "markdown",
   "metadata": {},
   "source": [
    "### ジョブショップスケジューリング\n",
    "\n",
    "![](images/job_shop_scheduling.webp)\n",
    "\n",
    "#### データを定式化しよう\n",
    "\n",
    "- $N$ 個のジョブ\n",
    "- 各ジョブの実行時間 $L = \\{L_0, L_1, \\cdots, L_{N-1}\\}$\n",
    "- $M$ 個のコンピュータ"
   ]
  },
  {
   "cell_type": "code",
   "execution_count": 6,
   "metadata": {},
   "outputs": [],
   "source": [
    "N = jm.Placeholder(\"N\")\n",
    "L = jm.Placeholder(\"L\", shape=N)\n",
    "M = jm.Placeholder(\"M\")"
   ]
  },
  {
   "attachments": {},
   "cell_type": "markdown",
   "metadata": {},
   "source": [
    "#### 変数を定式化しよう"
   ]
  },
  {
   "cell_type": "code",
   "execution_count": 8,
   "metadata": {},
   "outputs": [],
   "source": [
    "x = jm.Binary(\"x\", shape=(N, M))"
   ]
  },
  {
   "attachments": {},
   "cell_type": "markdown",
   "metadata": {},
   "source": [
    "#### 数理モデルを作ろう"
   ]
  },
  {
   "cell_type": "code",
   "execution_count": 12,
   "metadata": {},
   "outputs": [
    {
     "data": {
      "text/latex": [
       "$$\\begin{alignat*}{4}\\text{Problem} & \\text{: job scheduling} \\\\\\min & \\quad \\sum_{ j = 0,\\ j \\neq 0 }^{ M - 1 } \\left( \\sum_{ i = 0 }^{ N - 1 } L_{i} \\cdot x_{i,0} - \\sum_{ i = 0 }^{ N - 1 } L_{i} \\cdot x_{i,j} \\right) ^ { 2 } \\\\\\text{s.t.} & \\\\& \\text{onehot} :\\\\ &\\quad \\quad \\sum_{ \\bar{i}_{1} = 0 }^{ M - 1 } x_{i,\\bar{i}_{1}} = 1,\\ \\forall i \\in \\left\\{ 0 ,\\ldots , N - 1 \\right\\} \\\\[8pt]& x_{i_{0},i_{1}} \\in \\{0, 1\\}\\end{alignat*}$$"
      ],
      "text/plain": [
       "<jijmodeling.problem.problem.Problem at 0x7f06091ab0d0>"
      ]
     },
     "execution_count": 12,
     "metadata": {},
     "output_type": "execute_result"
    }
   ],
   "source": [
    "problem = jm.Problem(\"job scheduling\")\n",
    "\n",
    "\n",
    "i = jm.Element(\"i\", (0, N))\n",
    "j = jm.Element(\"j\", (0, M))\n",
    "A0 = jm.Sum(i, L[i] * x[i, 0])\n",
    "Aj = jm.Sum(i, L[i] * x[i, j])\n",
    "problem += jm.Sum((j, j!=0), (A0 - Aj) ** 2)\n",
    "\n",
    "\n",
    "problem += jm.Constraint(\"onehot\", x[i, :] == 1, forall=i)\n",
    "\n",
    "problem"
   ]
  },
  {
   "cell_type": "code",
   "execution_count": 20,
   "metadata": {},
   "outputs": [],
   "source": [
    "# set a list of jobs\n",
    "inst_L = [1, 2, 3, 4, 5, 6, 7, 8, 9, 10]\n",
    "# set the number of Nodes\n",
    "inst_M = 3\n",
    "instance_data = {'L': inst_L, 'M': inst_M, 'N': len(inst_L)}"
   ]
  },
  {
   "cell_type": "code",
   "execution_count": 26,
   "metadata": {},
   "outputs": [],
   "source": [
    "import jijzept as jz\n",
    "\n",
    "# set sampler\n",
    "config_path = \"./config.toml\"\n",
    "sampler = jz.JijSASampler()\n",
    "# solve problem\n",
    "multipliers = {\"onehot\": 0.5}\n",
    "results = sampler.sample_model(problem, instance_data, multipliers, num_reads=100, search=True)"
   ]
  },
  {
   "cell_type": "code",
   "execution_count": 23,
   "metadata": {},
   "outputs": [
    {
     "data": {
      "text/plain": [
       "{}"
      ]
     },
     "execution_count": 23,
     "metadata": {},
     "output_type": "execute_result"
    }
   ],
   "source": [
    "results.error_message"
   ]
  },
  {
   "cell_type": "code",
   "execution_count": 24,
   "metadata": {},
   "outputs": [
    {
     "data": {
      "image/png": "[encoded data removed]",
      "text/plain": [
       "<Figure size 640x480 with 1 Axes>"
      ]
     },
     "metadata": {},
     "output_type": "display_data"
    }
   ],
   "source": [
    "import matplotlib.pyplot as plt\n",
    "import numpy as np\n",
    "\n",
    "# extract feasible solution\n",
    "feasibles = results.feasible()\n",
    "# get the index of the lowest objective function\n",
    "objectives = np.array(feasibles.evaluation.objective)\n",
    "lowest_index = np.argmin(objectives)\n",
    "# get indices of x = 1\n",
    "indices, _, _ = feasibles.record.solution['x'][lowest_index]\n",
    "# get task number and execution node\n",
    "tasks, nodes = indices\n",
    "# get instance information\n",
    "L = instance_data['L']\n",
    "M = instance_data['M']\n",
    "# initialize execution time\n",
    "exec_time = np.zeros(M, dtype=np.int64)\n",
    "# compute summation of execution time each nodes\n",
    "for i, j in zip(tasks, nodes):\n",
    "    plt.barh(j, L[i], left=exec_time[j],ec=\"k\", linewidth=1,alpha=0.8)\n",
    "    plt.text(exec_time[j] + L[i] / 2.0 - 0.25 ,j-0.05, str(i+1),fontsize=12)\n",
    "    exec_time[j] += L[i]\n",
    "plt.yticks(range(M))\n",
    "plt.ylabel('Computer numbers')\n",
    "plt.xlabel('Execution time')\n",
    "plt.show()"
   ]
  },
  {
   "cell_type": "markdown",
   "metadata": {},
   "source": []
  },
  {
   "attachments": {},
   "cell_type": "markdown",
   "metadata": {},
   "source": [
    "## DAでの実行"
   ]
  },
  {
   "cell_type": "code",
   "execution_count": 29,
   "metadata": {},
   "outputs": [],
   "source": [
    "import jijzept as jz\n",
    "\n",
    "# set sampler\n",
    "config_path = \"./config.toml\"\n",
    "sampler = jz.JijDA4Sampler()\n",
    "\n",
    "da4_param = jz.JijDA4SolverParameters()\n",
    "# solve problem\n",
    "multipliers = {\"onehot\": 0.5}\n",
    "results = sampler.sample_model(problem, instance_data)"
   ]
  },
  {
   "cell_type": "code",
   "execution_count": null,
   "metadata": {},
   "outputs": [],
   "source": []
  }
 ],
 "metadata": {
  "kernelspec": {
   "display_name": ".venv",
   "language": "python",
   "name": "python3"
  },
  "language_info": {
   "codemirror_mode": {
    "name": "ipython",
    "version": 3
   },
   "file_extension": ".py",
   "mimetype": "text/x-python",
   "name": "python",
   "nbconvert_exporter": "python",
   "pygments_lexer": "ipython3",
   "version": "3.9.9"
  },
  "orig_nbformat": 4
 },
 "nbformat": 4,
 "nbformat_minor": 2
}
