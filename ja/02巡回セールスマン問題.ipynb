{
 "cells": [
  {
   "cell_type": "markdown",
   "id": "35fc7f67",
   "metadata": {},
   "source": [
    "# 巡回セールスマン問題\n",
    "\n",
    "$$\n",
    "\\begin{aligned}\n",
    "\\min_x & \\sum_{i,j}d_{i,j}x_{i,t} x_{j,(t+1)\\mod n}\\\\\n",
    "\\mathrm{s.t.} &\\sum_t x_{i,t}=1, \\forall i\\\\\n",
    "&\\sum_i x_{i,t} = 1,~\\forall t\\\\\n",
    "&x_{i,t} \\in \\{0, 1\\}\n",
    "\\end{aligned}\n",
    "$$"
   ]
  },
  {
   "cell_type": "code",
   "execution_count": 1,
   "id": "7cb08bdf",
   "metadata": {},
   "outputs": [],
   "source": [
    "import matplotlib.pyplot as plt\n",
    "import numpy as np\n",
    "\n",
    "# ランダムに都市を配置して距離行列を計算\n",
    "def tsp_distance(n: int):\n",
    "    x = np.random.uniform(0, 1, n)\n",
    "    y = np.random.uniform(0, 1, n)\n",
    "    XX, YY = np.meshgrid(x, y)\n",
    "    distance = np.sqrt((XX - XX.T)**2 + (YY - YY.T)**2)\n",
    "    return distance, (x, y)"
   ]
  },
  {
   "cell_type": "code",
   "execution_count": 2,
   "id": "bc066acb",
   "metadata": {},
   "outputs": [
    {
     "data": {
      "image/png": "[encoded data removed]",
      "text/plain": [
       "<Figure size 432x288 with 1 Axes>"
      ]
     },
     "metadata": {
      "needs_background": "light"
     },
     "output_type": "display_data"
    }
   ],
   "source": [
    "# n-都市 平面TSP\n",
    "n = 10\n",
    "\n",
    "distance, (x_pos, y_pos) = tsp_distance(n=n)\n",
    "\n",
    "plt.plot(x_pos, y_pos, 'o')\n",
    "plt.xlabel(\"x\", fontsize=15)\n",
    "plt.ylabel(\"y\", fontsize=15)\n",
    "plt.show()"
   ]
  },
  {
   "cell_type": "markdown",
   "id": "051f6650",
   "metadata": {},
   "source": [
    "## JijModelingによる実装"
   ]
  },
  {
   "cell_type": "code",
   "execution_count": 3,
   "id": "0e982bb8",
   "metadata": {},
   "outputs": [],
   "source": [
    "import jijmodeling as jm\n",
    "\n",
    "n = jm.Placeholder(\"n\")\n",
    "d = jm.Placeholder(\"d\", shape=(n, n))\n",
    "\n",
    "x = jm.Binary(\"x\", shape=(n, n))\n",
    "\n",
    "i = jm.Element(\"i\", (0, n))\n",
    "j = jm.Element(\"j\", (0, n))\n",
    "t = jm.Element(\"t\", (0, n))"
   ]
  },
  {
   "cell_type": "code",
   "execution_count": 4,
   "id": "036fa27a",
   "metadata": {},
   "outputs": [
    {
     "data": {
      "text/latex": [
       "$\\begin{alignat*}{4} \\text{Problem} & \\text{: tsp} \\\\\\min & \\quad \\sum_{i = 0 }^{n - 1}\\sum_{j = 0 }^{n - 1}\\sum_{t = 0 }^{n - 1} d_{i,j} \\cdot x_{i,t} \\cdot x_{j,t + 1 \\mod n} \\\\\\text{s.t.} & \\\\& \\text{one-city} :\\\\ &\\quad \\quad \\sum_{t = 0 }^{n - 1} x_{i,t} = 1,\\ \\forall i \\in \\left\\{ 0 ,\\ldots , n - 1 \\right\\} \\\\[8pt]& \\text{one-time} :\\\\ &\\quad \\quad \\sum_{i = 0 }^{n - 1} x_{i,t} = 1,\\ \\forall t \\in \\left\\{ 0 ,\\ldots , n - 1 \\right\\} \\\\[8pt]&  x_{i_0,i_1} \\in \\{{0, 1\\}},\\  x_{i_0,i_1} \\in \\{{0, 1\\}} \\end{alignat*}$"
      ],
      "text/plain": [
       "<jijmodeling.problem.Problem at 0x115233310>"
      ]
     },
     "execution_count": 4,
     "metadata": {},
     "output_type": "execute_result"
    }
   ],
   "source": [
    "# problem object の作成\n",
    "problem = jm.Problem(\"tsp\")\n",
    "\n",
    "# 目的関数の追加\n",
    "problem += jm.Sum([i, j, t], d[i, j]*x[i, t]*x[j, (t+1) % n])\n",
    "# 等価な書き方\n",
    "# problem += jm.Sum(i, jm.Sum(j, jm.Sum(t, d[i, j]*x[i, t]*x[j, (t+1) % n])))\n",
    "\n",
    "# 2つの制約条件の追加\n",
    "problem += jm.Constraint(\"one-city\", jm.Sum(t, x[i, t]) == 1, forall=i)\n",
    "problem += jm.Constraint(\"one-time\", jm.Sum(i, x[i, t]) == 1, forall=t)\n",
    "problem"
   ]
  },
  {
   "cell_type": "code",
   "execution_count": 90,
   "id": "1095e5f6",
   "metadata": {},
   "outputs": [],
   "source": [
    "instance_data = {\n",
    "    \"d\": distance,\n",
    "    \"n\": len(distance)\n",
    "}\n",
    "pyq_obj = problem.to_pyqubo(ph_value=instance_data)\n",
    "pyq_model = pyq_obj.compile()\n",
    "\n",
    "multipliers = {\"one-city\": 0.5, \"one-time\": 0.5}\n",
    "\n",
    "qubo, bias = pyq_model.to_qubo(feed_dict=multipliers)"
   ]
  },
  {
   "cell_type": "code",
   "execution_count": 93,
   "id": "b3220d4f",
   "metadata": {},
   "outputs": [
    {
     "data": {
      "text/plain": [
       "DecodedSamples(feasibles = 6[/10], objective = 1.8366670369770846, energy = -7.655244579126185)"
      ]
     },
     "execution_count": 93,
     "metadata": {},
     "output_type": "execute_result"
    }
   ],
   "source": [
    "import openjij as oj\n",
    "\n",
    "sampler = oj.SASampler()\n",
    "response = sampler.sample_qubo(qubo, num_reads=10)\n",
    "\n",
    "decoded = problem.decode(response, ph_value=instance_data)\n",
    "decoded"
   ]
  },
  {
   "cell_type": "code",
   "execution_count": 94,
   "id": "f9c9312a",
   "metadata": {},
   "outputs": [
    {
     "name": "stdout",
     "output_type": "stream",
     "text": [
      "[[0. 0. 0. 0. 0. 1. 0. 0. 0. 0.]\n",
      " [0. 0. 0. 0. 0. 0. 0. 0. 1. 0.]\n",
      " [0. 0. 1. 0. 0. 0. 0. 0. 0. 0.]\n",
      " [0. 0. 0. 0. 0. 0. 0. 0. 0. 1.]\n",
      " [0. 0. 0. 0. 0. 0. 1. 0. 0. 0.]\n",
      " [0. 0. 0. 1. 0. 0. 0. 0. 0. 0.]\n",
      " [0. 0. 0. 0. 0. 0. 0. 0. 0. 0.]\n",
      " [1. 0. 0. 0. 0. 0. 0. 0. 0. 0.]\n",
      " [0. 1. 0. 0. 0. 0. 0. 0. 0. 0.]\n",
      " [0. 0. 0. 0. 1. 0. 0. 0. 0. 0.]]\n",
      "{'one-city': 1.0, 'one-time': 1.0}\n",
      "{'one-city': {(0,): 0.0, (1,): 0.0, (2,): 0.0, (3,): 0.0, (4,): 0.0, (5,): 0.0, (6,): -1.0, (7,): 0.0, (8,): 0.0, (9,): 0.0}, 'one-time': {(0,): 0.0, (1,): 0.0, (2,): 0.0, (3,): 0.0, (4,): 0.0, (5,): 0.0, (6,): 0.0, (7,): -1.0, (8,): 0.0, (9,): 0.0}}\n",
      "Objective:  2.2957815490217137\n"
     ]
    }
   ],
   "source": [
    "# 結果となるバイナリの値を取得する\n",
    "x_value = decoded.solutions[0]['x']\n",
    "print(x_value)\n",
    "\n",
    "# 制約条件が満たされているかを確認する\n",
    "print(decoded.constraint_violations[0])\n",
    "\n",
    "# forallごとの詳細の値を確認する\n",
    "print(decoded.constraint_expr_value[0])\n",
    "\n",
    "#　目的関数値\n",
    "print(\"Objective: \", decoded.objectives[0])"
   ]
  },
  {
   "cell_type": "code",
   "execution_count": 96,
   "id": "cccc889c",
   "metadata": {},
   "outputs": [
    {
     "data": {
      "text/plain": [
       "[<matplotlib.lines.Line2D at 0x117ba9af0>]"
      ]
     },
     "execution_count": 96,
     "metadata": {},
     "output_type": "execute_result"
    },
    {
     "data": {
      "image/png": "[encoded data removed]",
      "text/plain": [
       "<Figure size 432x288 with 1 Axes>"
      ]
     },
     "metadata": {
      "needs_background": "light"
     },
     "output_type": "display_data"
    }
   ],
   "source": [
    "import numpy as np\n",
    "\n",
    "feasibles = decoded.feasibles()\n",
    "argmin_e = np.argmin(feasibles.objective)\n",
    "tour = np.where(feasibles[argmin_e].solution['x'].T == 1)[1]\n",
    "plt.plot(x_pos, y_pos, \"o\")\n",
    "plt.plot(x_pos[tour], y_pos[tour], \"-\")\n",
    "plt.plot(x_pos[[tour[-1], tour[0]]], y_pos[[tour[-1], tour[0]]], \"-\")"
   ]
  }
 ],
 "metadata": {
  "kernelspec": {
   "display_name": "Python 3 (ipykernel)",
   "language": "python",
   "name": "python3"
  },
  "language_info": {
   "codemirror_mode": {
    "name": "ipython",
    "version": 3
   },
   "file_extension": ".py",
   "mimetype": "text/x-python",
   "name": "python",
   "nbconvert_exporter": "python",
   "pygments_lexer": "ipython3",
   "version": "3.9.7"
  }
 },
 "nbformat": 4,
 "nbformat_minor": 5
}
