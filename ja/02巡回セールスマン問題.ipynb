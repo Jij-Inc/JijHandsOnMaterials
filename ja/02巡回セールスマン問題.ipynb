{
 "cells": [
  {
   "cell_type": "markdown",
   "id": "35fc7f67",
   "metadata": {},
   "source": [
    "# 巡回セールスマン問題\n",
    "\n",
    "$$\n",
    "\\begin{aligned}\n",
    "\\min_x & \\sum_{i,j}d_{i,j}x_{i,t} x_{j,(t+1)\\mod n}\\\\\n",
    "\\mathrm{s.t.} &\\sum_t x_{i,t}=1, \\forall i\\\\\n",
    "&\\sum_i x_{i,t} = 1,~\\forall t\\\\\n",
    "&x_{i,t} \\in \\{0, 1\\}\n",
    "\\end{aligned}\n",
    "$$"
   ]
  },
  {
   "cell_type": "code",
   "execution_count": 7,
   "id": "7cb08bdf",
   "metadata": {},
   "outputs": [],
   "source": [
    "import matplotlib.pyplot as plt\n",
    "import numpy as np\n",
    "\n",
    "# ランダムに都市を配置して距離行列を計算\n",
    "def tsp_distance(n: int):\n",
    "    x = np.random.uniform(0, 1, n)\n",
    "    y = np.random.uniform(0, 1, n)\n",
    "    XX, YY = np.meshgrid(x, y)\n",
    "    distance = np.sqrt((XX - XX.T)**2 + (YY - YY.T)**2)\n",
    "    return distance, (x, y)"
   ]
  },
  {
   "cell_type": "code",
   "execution_count": 8,
   "id": "bc066acb",
   "metadata": {},
   "outputs": [
    {
     "data": {
      "image/png": "[encoded data removed]",
      "text/plain": [
       "<Figure size 640x480 with 1 Axes>"
      ]
     },
     "metadata": {},
     "output_type": "display_data"
    }
   ],
   "source": [
    "# n-都市 平面TSP\n",
    "n = 10\n",
    "\n",
    "distance, (x_pos, y_pos) = tsp_distance(n=n)\n",
    "\n",
    "plt.plot(x_pos, y_pos, 'o')\n",
    "plt.xlabel(\"x\", fontsize=15)\n",
    "plt.ylabel(\"y\", fontsize=15)\n",
    "plt.show()"
   ]
  },
  {
   "cell_type": "markdown",
   "id": "051f6650",
   "metadata": {},
   "source": [
    "## JijModelingによる実装"
   ]
  },
  {
   "cell_type": "code",
   "execution_count": 9,
   "id": "036fa27a",
   "metadata": {},
   "outputs": [
    {
     "data": {
      "text/latex": [
       "$$\\begin{alignat*}{4}\\text{Problem} & \\text{: TSP} \\\\\\min & \\quad \\sum_{ i = 0 }^{ N - 1 } \\sum_{ j = 0 }^{ N - 1 } d_{i,j} \\cdot \\sum_{ t = 0 }^{ N - 1 } x_{i,t} \\cdot x_{j,\\left( t + 1 \\right) \\mod N} \\\\\\text{s.t.} & \\\\& \\text{one-city} :\\\\ &\\quad \\quad \\sum_{ \\bar{i}_{0} = 0 }^{ N - 1 } x_{\\bar{i}_{0},t} = 1,\\ \\forall t \\in \\left\\{ 0 ,\\ldots , N - 1 \\right\\} \\\\[8pt]& \\text{one-time} :\\\\ &\\quad \\quad \\sum_{ \\bar{i}_{1} = 0 }^{ N - 1 } x_{i,\\bar{i}_{1}} = 1,\\ \\forall i \\in \\left\\{ 0 ,\\ldots , N - 1 \\right\\} \\\\[8pt]& x_{i_{0},i_{1}} \\in \\{0, 1\\}\\end{alignat*}$$"
      ],
      "text/plain": [
       "<jijmodeling.problem.problem.Problem at 0x7ff952a19370>"
      ]
     },
     "execution_count": 9,
     "metadata": {},
     "output_type": "execute_result"
    }
   ],
   "source": [
    "import jijmodeling as jm\n",
    "\n",
    "# define variables\n",
    "d = jm.Placeholder('d', dim=2)\n",
    "N = d.shape[0].set_latex(\"N\")\n",
    "x = jm.Binary('x', shape=(N, N))\n",
    "i = jm.Element('i', (0, N))\n",
    "j = jm.Element('j', (0, N))\n",
    "t = jm.Element('t', (0, N))\n",
    "\n",
    "\n",
    "# set problem\n",
    "problem = jm.Problem('TSP')\n",
    "problem += jm.Sum([i, j], d[i, j] * jm.Sum(t, x[i, t]*x[j, (t+1) % N]))\n",
    "problem += jm.Constraint(\"one-city\", x[:, t] == 1, forall=t)\n",
    "problem += jm.Constraint(\"one-time\", x[i, :] == 1, forall=i)\n",
    "\n",
    "problem"
   ]
  },
  {
   "cell_type": "code",
   "execution_count": 11,
   "id": "1095e5f6",
   "metadata": {},
   "outputs": [],
   "source": [
    "instance_data = {\n",
    "    \"d\": distance,\n",
    "}\n",
    "\n",
    "multipliers = {\"one-city\": 0.5, \"one-time\": 0.5}"
   ]
  },
  {
   "cell_type": "markdown",
   "id": "411d035a",
   "metadata": {},
   "source": [
    "## JijZeptで解く"
   ]
  },
  {
   "cell_type": "code",
   "execution_count": 17,
   "id": "f9c9312a",
   "metadata": {},
   "outputs": [],
   "source": [
    "import jijzept as jz\n",
    "import os\n",
    "\n",
    "# set sampler\n",
    "sampler = jz.JijSASampler(config=os.environ[\"JIJZEPT_CONFIG_PATH\"])\n",
    "# solve problem\n",
    "multipliers = {\"one-city\": 1.1, \"one-time\": 1.1}\n",
    "results = sampler.sample_model(problem, instance_data, multipliers, num_reads=100)"
   ]
  },
  {
   "cell_type": "code",
   "execution_count": 18,
   "id": "cccc889c",
   "metadata": {},
   "outputs": [
    {
     "name": "stdout",
     "output_type": "stream",
     "text": [
      "Energy:  [-18.100587844848633, -17.478118896484375, -17.420778274536133, -17.40070915222168, -17.853092193603516]\n",
      "Objective:  [3.9899614589265715, 4.62688525439385, 4.685558446543775, 4.706092185433922, 4.243204553423524]\n",
      "one-city violation:  [0.0, 0.0, 0.0, 0.0, 0.0]\n",
      "one-time violation:  [0.0, 0.0, 0.0, 0.0, 0.0]\n"
     ]
    }
   ],
   "source": [
    "# Show the result of evaluation of solutions\n",
    "max_show_num = 5\n",
    "print(\"Energy: \", results.evaluation.energy[:max_show_num])       # Energy is objective value of QUBO\n",
    "print(\"Objective: \", results.evaluation.objective[:max_show_num]) # Objective values of original constrained problem\n",
    "print(\"one-city violation: \", results.evaluation.constraint_violations[\"one-city\"][:max_show_num])  # violation of constraints\n",
    "print(\"one-time violation: \", results.evaluation.constraint_violations[\"one-time\"][:max_show_num])  # violation of constraints"
   ]
  },
  {
   "cell_type": "markdown",
   "id": "d4aaa261",
   "metadata": {},
   "source": [
    "## 実行可能解の抽出"
   ]
  },
  {
   "cell_type": "code",
   "execution_count": 19,
   "id": "d64176a5",
   "metadata": {},
   "outputs": [
    {
     "name": "stdout",
     "output_type": "stream",
     "text": [
      "Lowest solution index: 32, Lowest objective value: 3.1854883988545435\n"
     ]
    }
   ],
   "source": [
    "import numpy as np\n",
    "\n",
    "# Get feasible solution index\n",
    "onecity_violation = np.array(results.evaluation.constraint_violations[\"one-city\"])\n",
    "onetime_violation = np.array(results.evaluation.constraint_violations[\"one-time\"])\n",
    "\n",
    "feasible = [i for i, violation in enumerate(onecity_violation + onetime_violation) if violation == 0]\n",
    "\n",
    "# Get feasible objective\n",
    "objective = np.array(results.evaluation.objective)\n",
    "feas_obj = {i: obj_value for i, obj_value in zip(feasible, objective[feasible])}\n",
    "\n",
    "lowest_index = min(feas_obj, key=feas_obj.get)\n",
    "\n",
    "print(f\"Lowest solution index: {lowest_index}, Lowest objective value: {feas_obj[lowest_index]}\")"
   ]
  },
  {
   "cell_type": "markdown",
   "id": "981907bd",
   "metadata": {},
   "source": [
    "## 解の確認"
   ]
  },
  {
   "cell_type": "code",
   "execution_count": 20,
   "id": "8a7a7ede",
   "metadata": {},
   "outputs": [
    {
     "name": "stdout",
     "output_type": "stream",
     "text": [
      "indices:  ([0, 1, 2, 3, 4, 5, 6, 7, 8, 9], [2, 1, 0, 6, 9, 5, 3, 4, 8, 7])\n",
      "values:  [1, 1, 1, 1, 1, 1, 1, 1, 1, 1]\n"
     ]
    }
   ],
   "source": [
    "nonzero_indices, nonzero_values, shape = results.record.solution[\"x\"][lowest_index]\n",
    "print(\"indices: \", nonzero_indices)\n",
    "print(\"values: \", nonzero_values)"
   ]
  },
  {
   "cell_type": "markdown",
   "id": "219a9125",
   "metadata": {},
   "source": [
    "## ツアーの可視化"
   ]
  },
  {
   "cell_type": "code",
   "execution_count": 23,
   "id": "651aff27",
   "metadata": {},
   "outputs": [
    {
     "data": {
      "text/plain": [
       "array([2, 1, 0, 6, 7, 5, 3, 9, 8, 4, 2])"
      ]
     },
     "execution_count": 23,
     "metadata": {},
     "output_type": "execute_result"
    }
   ],
   "source": [
    "N_value = len(x_pos)\n",
    "tour = np.zeros(N_value, dtype=int)\n",
    "\n",
    "i_value, t_value = nonzero_indices\n",
    "tour[t_value] = i_value\n",
    "\n",
    "tour = np.append(tour, [tour[0]])\n",
    "tour"
   ]
  },
  {
   "cell_type": "code",
   "execution_count": 28,
   "id": "b976ff04",
   "metadata": {},
   "outputs": [
    {
     "data": {
      "image/png": "[encoded data removed]",
      "text/plain": [
       "<Figure size 640x480 with 1 Axes>"
      ]
     },
     "metadata": {},
     "output_type": "display_data"
    }
   ],
   "source": [
    "import matplotlib.pyplot as plt\n",
    "\n",
    "plt.plot(x_pos, y_pos, \"o\")\n",
    "plt.plot(x_pos[tour], y_pos[tour], \"-\")\n",
    "plt.show()"
   ]
  }
 ],
 "metadata": {
  "kernelspec": {
   "display_name": "Python 3.9.6 ('.venv_handson': venv)",
   "language": "python",
   "name": "python3"
  },
  "language_info": {
   "codemirror_mode": {
    "name": "ipython",
    "version": 3
   },
   "file_extension": ".py",
   "mimetype": "text/x-python",
   "name": "python",
   "nbconvert_exporter": "python",
   "pygments_lexer": "ipython3",
   "version": "3.9.6"
  },
  "vscode": {
   "interpreter": {
    "hash": "ca042aeb15c070ef55678f296689cdbbee966854cb611185160d4add490b5427"
   }
  }
 },
 "nbformat": 4,
 "nbformat_minor": 5
}
