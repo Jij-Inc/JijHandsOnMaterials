{
 "cells": [
  {
   "cell_type": "markdown",
   "id": "35fc7f67",
   "metadata": {},
   "source": [
    "# 巡回セールスマン問題\n",
    "\n",
    "$$\n",
    "\\begin{aligned}\n",
    "\\min_x & \\sum_{i,j}d_{i,j}x_{i,t} x_{j,(t+1)\\mod n}\\\\\n",
    "\\mathrm{s.t.} &\\sum_t x_{i,t}=1, \\forall i\\\\\n",
    "&\\sum_i x_{i,t} = 1,~\\forall t\\\\\n",
    "&x_{i,t} \\in \\{0, 1\\}\n",
    "\\end{aligned}\n",
    "$$"
   ]
  },
  {
   "cell_type": "code",
   "execution_count": 1,
   "id": "7cb08bdf",
   "metadata": {},
   "outputs": [],
   "source": [
    "import numpy as np\n",
    "\n",
    "# ランダムに都市を配置して距離行列を計算\n",
    "def tsp_distance(n: int):\n",
    "    x = np.random.uniform(0, 1, n)\n",
    "    y = np.random.uniform(0, 1, n)\n",
    "    XX, YY = np.meshgrid(x, y)\n",
    "    distance = np.sqrt((XX - XX.T)**2 + (YY - YY.T)**2)\n",
    "    return distance, (x, y)"
   ]
  },
  {
   "cell_type": "code",
   "execution_count": 2,
   "id": "bc066acb",
   "metadata": {},
   "outputs": [
    {
     "data": {
      "image/png": "[encoded data removed]",
      "text/plain": [
       "<Figure size 432x288 with 1 Axes>"
      ]
     },
     "metadata": {
      "needs_background": "light"
     },
     "output_type": "display_data"
    }
   ],
   "source": [
    "import matplotlib.pyplot as plt\n",
    "\n",
    "# n-都市 平面TSP\n",
    "n = 10\n",
    "\n",
    "distance, (x_pos, y_pos) = tsp_distance(n=n)\n",
    "\n",
    "plt.plot(x_pos, y_pos, 'o')\n",
    "plt.xlabel(\"x\", fontsize=15)\n",
    "plt.ylabel(\"y\", fontsize=15)\n",
    "plt.show()"
   ]
  },
  {
   "cell_type": "markdown",
   "id": "051f6650",
   "metadata": {},
   "source": [
    "## JijModelingによる実装"
   ]
  },
  {
   "cell_type": "code",
   "execution_count": 3,
   "id": "0e982bb8",
   "metadata": {},
   "outputs": [],
   "source": [
    "import jijmodeling as jm\n",
    "\n",
    "n = jm.Placeholder(\"n\")\n",
    "d = jm.Placeholder(\"d\", shape=(n, n))\n",
    "\n",
    "x = jm.Binary(\"x\", shape=(n, n))\n",
    "\n",
    "i = jm.Element(\"i\", (0, n))\n",
    "j = jm.Element(\"j\", (0, n))\n",
    "t = jm.Element(\"t\", (0, n))"
   ]
  },
  {
   "cell_type": "code",
   "execution_count": 4,
   "id": "036fa27a",
   "metadata": {},
   "outputs": [
    {
     "data": {
      "text/latex": [
       "$$\\begin{alignat*}{4} \\text{Problem} & \\text{: tsp} \\\\\\min & \\quad \\sum_{i = 0 }^{n - 1}\\sum_{j = 0 }^{n - 1}\\sum_{t = 0 }^{n - 1} d_{i,j} \\cdot x_{i,t} \\cdot x_{j,t + 1 \\mod n} \\\\\\text{s.t.} & \\\\& \\text{one-city} :\\\\ &\\quad \\quad \\sum_{t = 0 }^{n - 1} x_{i,t} = 1,\\ \\forall i \\in \\left\\{ 0 ,\\ldots , n - 1 \\right\\} \\\\[8pt]& \\text{one-time} :\\\\ &\\quad \\quad \\sum_{i = 0 }^{n - 1} x_{i,t} = 1,\\ \\forall t \\in \\left\\{ 0 ,\\ldots , n - 1 \\right\\} \\\\[8pt]&  x_{i_0,i_1} \\in \\{{0, 1\\}} \\end{alignat*}$$"
      ],
      "text/plain": [
       "<jijmodeling.problem.Problem at 0x7f604a7d1340>"
      ]
     },
     "execution_count": 4,
     "metadata": {},
     "output_type": "execute_result"
    }
   ],
   "source": [
    "# problem object の作成\n",
    "problem = jm.Problem(\"tsp\")\n",
    "\n",
    "# 目的関数の追加\n",
    "problem += jm.Sum([i, j, t], d[i, j]*x[i, t]*x[j, (t+1) % n])\n",
    "# 等価な書き方\n",
    "# problem += jm.Sum(i, jm.Sum(j, jm.Sum(t, d[i, j]*x[i, t]*x[j, (t+1) % n])))\n",
    "\n",
    "# 2つの制約条件の追加\n",
    "problem += jm.Constraint(\"one-city\", jm.Sum(t, x[i, t]) == 1, forall=i)\n",
    "problem += jm.Constraint(\"one-time\", jm.Sum(i, x[i, t]) == 1, forall=t)\n",
    "problem"
   ]
  },
  {
   "cell_type": "code",
   "execution_count": 5,
   "id": "1095e5f6",
   "metadata": {},
   "outputs": [],
   "source": [
    "instance_data = {\n",
    "    \"d\": distance,\n",
    "    \"n\": len(distance)\n",
    "}\n",
    "multipliers = {\"one-city\": 1.0, \"one-time\": 1.0}"
   ]
  },
  {
   "cell_type": "code",
   "execution_count": 6,
   "id": "b3220d4f",
   "metadata": {},
   "outputs": [
    {
     "name": "stdout",
     "output_type": "stream",
     "text": [
      "uploading instance ...\n",
      "submitting query ...\n",
      "submitted to the queue.\n",
      "Your solution_id is 389eaf05dfb44227af79141e211f3084.\n",
      "running...\n"
     ]
    }
   ],
   "source": [
    "import jijzept as jz\n",
    "import os\n",
    "#sampler = jz.JijSASampler(config=\"config.toml\")\n",
    "sampler = jz.JijDA3Sampler(config=\"config.toml\", da3_token=os.environ['DA3TOKEN'])\n",
    "response = sampler.sample_model(problem, instance_data)"
   ]
  },
  {
   "cell_type": "code",
   "execution_count": 7,
   "id": "12179cfa",
   "metadata": {},
   "outputs": [
    {
     "data": {
      "text/plain": [
       "DecodedSamples(feasibles = 5[/5], objective = 2.9309438539723063, energy = 2.699706293393773)"
      ]
     },
     "execution_count": 7,
     "metadata": {},
     "output_type": "execute_result"
    }
   ],
   "source": [
    "decoded = problem.decode(response, instance_data)\n",
    "decoded"
   ]
  },
  {
   "cell_type": "code",
   "execution_count": 8,
   "id": "f9c9312a",
   "metadata": {},
   "outputs": [
    {
     "name": "stdout",
     "output_type": "stream",
     "text": [
      "[[0. 0. 0. 0. 1. 0. 0. 0. 0. 0.]\n",
      " [0. 0. 0. 0. 0. 0. 0. 0. 1. 0.]\n",
      " [0. 0. 0. 0. 0. 0. 0. 0. 0. 1.]\n",
      " [0. 0. 1. 0. 0. 0. 0. 0. 0. 0.]\n",
      " [0. 0. 0. 0. 0. 0. 1. 0. 0. 0.]\n",
      " [0. 0. 0. 0. 0. 0. 0. 1. 0. 0.]\n",
      " [1. 0. 0. 0. 0. 0. 0. 0. 0. 0.]\n",
      " [0. 0. 0. 1. 0. 0. 0. 0. 0. 0.]\n",
      " [0. 1. 0. 0. 0. 0. 0. 0. 0. 0.]\n",
      " [0. 0. 0. 0. 0. 1. 0. 0. 0. 0.]]\n",
      "{'one-city': 0.0, 'one-time': 0.0}\n",
      "{'one-city': {(0,): 0.0, (1,): 0.0, (2,): 0.0, (3,): 0.0, (4,): 0.0, (5,): 0.0, (6,): 0.0, (7,): 0.0, (8,): 0.0, (9,): 0.0}, 'one-time': {(0,): 0.0, (1,): 0.0, (2,): 0.0, (3,): 0.0, (4,): 0.0, (5,): 0.0, (6,): 0.0, (7,): 0.0, (8,): 0.0, (9,): 0.0}}\n",
      "Objective:  2.9309438539723067\n"
     ]
    }
   ],
   "source": [
    "# 結果となるバイナリの値を取得する\n",
    "x_value = decoded.solutions[0]['x']\n",
    "print(x_value)\n",
    "\n",
    "# 制約条件が満たされているかを確認する\n",
    "print(decoded.constraint_violations[0])\n",
    "\n",
    "# forallごとの詳細の値を確認する\n",
    "print(decoded.constraint_expr_value[0])\n",
    "\n",
    "#　目的関数値\n",
    "print(\"Objective: \", decoded.objectives[0])"
   ]
  },
  {
   "cell_type": "code",
   "execution_count": 9,
   "id": "cccc889c",
   "metadata": {},
   "outputs": [
    {
     "data": {
      "text/plain": [
       "[<matplotlib.lines.Line2D at 0x7f6049c409d0>]"
      ]
     },
     "execution_count": 9,
     "metadata": {},
     "output_type": "execute_result"
    },
    {
     "data": {
      "image/png": "[encoded data removed]",
      "text/plain": [
       "<Figure size 432x288 with 1 Axes>"
      ]
     },
     "metadata": {
      "needs_background": "light"
     },
     "output_type": "display_data"
    }
   ],
   "source": [
    "import numpy as np\n",
    "\n",
    "feasibles = decoded.feasibles()\n",
    "argmin_e = np.argmin(feasibles.objective)\n",
    "tour = np.where(feasibles[argmin_e].solution['x'].T == 1)[1]\n",
    "plt.plot(x_pos, y_pos, \"o\")\n",
    "plt.plot(x_pos[tour], y_pos[tour], \"-\")\n",
    "plt.plot(x_pos[[tour[-1], tour[0]]], y_pos[[tour[-1], tour[0]]], \"-\")"
   ]
  },
  {
   "cell_type": "code",
   "execution_count": null,
   "id": "c432c7f9",
   "metadata": {},
   "outputs": [],
   "source": []
  }
 ],
 "metadata": {
  "kernelspec": {
   "display_name": "Python 3.9.5 ('.venv': venv)",
   "language": "python",
   "name": "python3"
  },
  "language_info": {
   "codemirror_mode": {
    "name": "ipython",
    "version": 3
   },
   "file_extension": ".py",
   "mimetype": "text/x-python",
   "name": "python",
   "nbconvert_exporter": "python",
   "pygments_lexer": "ipython3",
   "version": "3.9.5"
  },
  "vscode": {
   "interpreter": {
    "hash": "5fc84860b3607a021c26093cce5d079f54976454507fe3ae0cf263a1eee4dfd7"
   }
  }
 },
 "nbformat": 4,
 "nbformat_minor": 5
}
