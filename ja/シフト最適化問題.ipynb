{
 "cells": [
  {
   "attachments": {},
   "cell_type": "markdown",
   "metadata": {},
   "source": [
    "# シフト最適化問題"
   ]
  },
  {
   "attachments": {},
   "cell_type": "markdown",
   "metadata": {},
   "source": [
    "この章ではJijModelingを使って実際にゼロから数理モデルを組んでいくことを行います。"
   ]
  },
  {
   "attachments": {},
   "cell_type": "markdown",
   "metadata": {},
   "source": [
    "## シフト最適化問題\n",
    "\n",
    "あなたがシフト最適化問題を数理最適化を使って解くことを依頼されたとしましょう。  \n",
    "現場では以下のシフト作成をお願いされています。\n",
    "\n",
    "- 毎日の勤務（昼、夕方、夜）のシフト作成\n",
    "- 一週間に最低1日の休日、最低1日の昼勤\n",
    "\n",
    "を入れてください。"
   ]
  },
  {
   "cell_type": "code",
   "execution_count": 1,
   "metadata": {},
   "outputs": [
    {
     "data": {
      "text/latex": [
       "$$\\begin{alignat*}{4}\\text{Problem} & \\text{: scheduling} \\\\\\min & \\quad \\sum_{ i = 0 }^{ N - 1 } \\sum_{ d = 0 }^{ D - 1 } \\sum_{ t = 0 }^{ T - 1 } S_{i,d,t} \\\\\\text{s.t.} & \\\\& \\text{demand} :\\\\ &\\quad \\quad demand_{d,t} \\leq \\sum_{ \\bar{i}_{0} = 0 }^{ N - 1 } x_{\\bar{i}_{0},d,t},\\ \\forall d \\in \\left\\{ 0 ,\\ldots , D - 1 \\right\\} \\forall t \\in \\left\\{ 0 ,\\ldots , T - 1 \\right\\} \\\\[8pt]& \\text{holiday} :\\\\ &\\quad \\quad 1 \\leq \\sum_{ d' = d }^{ d + 7 - 1 } x_{i,d',T},\\ \\forall i \\in \\left\\{ 0 ,\\ldots , N - 1 \\right\\} \\forall d \\in \\left\\{ 0 ,\\ldots , D - 1 \\right\\}  \\ d < D - 7\\\\[8pt]& x_{i_{0},i_{1},i_{2}} \\in \\{0, 1\\}\\end{alignat*}$$"
      ],
      "text/plain": [
       "<jijmodeling.problem.problem.Problem at 0x7faeca563d30>"
      ]
     },
     "execution_count": 1,
     "metadata": {},
     "output_type": "execute_result"
    }
   ],
   "source": [
    "import jijmodeling as jm\n",
    "\n",
    "demand = jm.Placeholder(\"demand\", dim=2)\n",
    "\n",
    "N = jm.Placeholder(\"N\")\n",
    "D = demand.shape[0].set_latex(\"D\")\n",
    "T = demand.shape[1].set_latex(\"T\")\n",
    "\n",
    "submitted = jm.Placeholder(\"S\", shape=(N, D, T))\n",
    "\n",
    "x = jm.Binary(\"x\", shape=(N, D, T+1))\n",
    "\n",
    "i = jm.Element(\"i\", N)\n",
    "date = jm.Element(\"d\", D)\n",
    "t = jm.Element(\"t\", T)\n",
    "\n",
    "\n",
    "problem = jm.Problem(\"scheduling\")\n",
    "jmC = jm.Constraint\n",
    "problem += jm.Sum([i, date, t], submitted[i, date, t])\n",
    "problem += jmC(\"demand\", x[:, date, t] >= demand[date, t], forall=[date, t])\n",
    "\n",
    "day_week = jm.Element(\"day_week\", (date, date+7)).set_latex(\"d'\")\n",
    "problem += jmC(\"holiday\", jm.Sum(day_week, x[i, day_week, T]) >= 1, forall=[i, (date, date < D-7)])\n",
    "\n",
    "problem"
   ]
  },
  {
   "cell_type": "code",
   "execution_count": 118,
   "metadata": {},
   "outputs": [],
   "source": [
    "import jijzept as jz\n",
    "import numpy as np\n",
    "\n",
    "# sampler = jz.JijDA3Sampler(config=\"config.toml\", da3_token=\"\")\n",
    "instance = {\n",
    "    \"N\": 10,\n",
    "    \"demand\": np.random.uniform(1, 5, (5, 3)), \n",
    "}\n",
    "# response = sampler.sample_model(problem, instance)"
   ]
  },
  {
   "cell_type": "code",
   "execution_count": 119,
   "metadata": {},
   "outputs": [
    {
     "name": "stdout",
     "output_type": "stream",
     "text": [
      "Starting solution of the Linear programming relaxation problem using Primal Simplex\n",
      "\n",
      "Coin0506I Presolve 0 (-15) rows, 0 (-200) columns and 0 (-150) elements\n",
      "Clp0000I Optimal - objective value 45.596908\n",
      "Coin0511I After Postsolve, objective 45.596908, infeasibilities - dual 0 (0), primal 0 (0)\n",
      "Clp0032I Optimal objective 45.59690834 - 0 iterations time 0.002, Presolve 0.00, Idiot 0.00\n",
      "\n",
      "Starting MIP optimization\n",
      "Cgl0004I processed model has 0 rows, 0 columns (0 integer (0 of which binary)) and 0 elements\n",
      "Cgl0015I Clique Strengthening extended 0 cliques, 0 were dominated\n",
      "Cbc3007W No integer variables\n",
      "Total time (CPU seconds):       0.00   (Wallclock seconds):       0.01\n",
      "\n"
     ]
    }
   ],
   "source": [
    "# import jijmodeling.transpiler as jmt\n",
    "\n",
    "# compiled_model = jmt.core.model_compile(problem, instance, {})\n",
    "# mip_builder = jmt.core.mip.transpile_to_mip(compiled_model)\n",
    "# mip_model = mip_builder.get_model()\n",
    "\n",
    "# status = mip_model.optimize()\n",
    "\n",
    "# response = mip_builder.decode_from_mip(status, mip_model)"
   ]
  },
  {
   "cell_type": "code",
   "execution_count": 120,
   "metadata": {},
   "outputs": [],
   "source": [
    "x_value = response.to_dense().record.solution[\"x\"][0]"
   ]
  },
  {
   "cell_type": "code",
   "execution_count": 123,
   "metadata": {},
   "outputs": [
    {
     "data": {
      "text/html": [
       "<div>\n",
       "<style scoped>\n",
       "    .dataframe tbody tr th:only-of-type {\n",
       "        vertical-align: middle;\n",
       "    }\n",
       "\n",
       "    .dataframe tbody tr th {\n",
       "        vertical-align: top;\n",
       "    }\n",
       "\n",
       "    .dataframe thead th {\n",
       "        text-align: right;\n",
       "    }\n",
       "</style>\n",
       "<table border=\"1\" class=\"dataframe\">\n",
       "  <thead>\n",
       "    <tr style=\"text-align: right;\">\n",
       "      <th></th>\n",
       "      <th>0</th>\n",
       "      <th>1</th>\n",
       "      <th>2</th>\n",
       "      <th>3</th>\n",
       "    </tr>\n",
       "  </thead>\n",
       "  <tbody>\n",
       "    <tr>\n",
       "      <th>0</th>\n",
       "      <td>0</td>\n",
       "      <td>0</td>\n",
       "      <td>1</td>\n",
       "      <td>0</td>\n",
       "    </tr>\n",
       "    <tr>\n",
       "      <th>1</th>\n",
       "      <td>1</td>\n",
       "      <td>1</td>\n",
       "      <td>1</td>\n",
       "      <td>0</td>\n",
       "    </tr>\n",
       "    <tr>\n",
       "      <th>2</th>\n",
       "      <td>0</td>\n",
       "      <td>1</td>\n",
       "      <td>0</td>\n",
       "      <td>0</td>\n",
       "    </tr>\n",
       "    <tr>\n",
       "      <th>3</th>\n",
       "      <td>1</td>\n",
       "      <td>1</td>\n",
       "      <td>1</td>\n",
       "      <td>0</td>\n",
       "    </tr>\n",
       "    <tr>\n",
       "      <th>4</th>\n",
       "      <td>0</td>\n",
       "      <td>1</td>\n",
       "      <td>1</td>\n",
       "      <td>0</td>\n",
       "    </tr>\n",
       "  </tbody>\n",
       "</table>\n",
       "</div>"
      ],
      "text/plain": [
       "   0  1  2  3\n",
       "0  0  0  1  0\n",
       "1  1  1  1  0\n",
       "2  0  1  0  0\n",
       "3  1  1  1  0\n",
       "4  0  1  1  0"
      ]
     },
     "execution_count": 123,
     "metadata": {},
     "output_type": "execute_result"
    }
   ],
   "source": [
    "import numpy as np\n",
    "import pandas as pd\n",
    "\n",
    "schedules = {_i: x_value[_i].astype(int) for _i in range(instance[\"N\"])}\n",
    "\n",
    "assigned_number = np.zeros(shape=schedules[0].shape, dtype=int)\n",
    "for _i, table in schedules.items():\n",
    "    assigned_number += table\n",
    "schedule_df = {_i: pd.DataFrame(table) for _i, table in schedules.items()}\n",
    "schedule_df[0]"
   ]
  },
  {
   "cell_type": "code",
   "execution_count": null,
   "metadata": {},
   "outputs": [],
   "source": []
  },
  {
   "cell_type": "code",
   "execution_count": null,
   "metadata": {},
   "outputs": [],
   "source": []
  },
  {
   "cell_type": "markdown",
   "metadata": {},
   "source": []
  }
 ],
 "metadata": {
  "kernelspec": {
   "display_name": ".venv",
   "language": "python",
   "name": "python3"
  },
  "language_info": {
   "codemirror_mode": {
    "name": "ipython",
    "version": 3
   },
   "file_extension": ".py",
   "mimetype": "text/x-python",
   "name": "python",
   "nbconvert_exporter": "python",
   "pygments_lexer": "ipython3",
   "version": "3.9.9"
  },
  "orig_nbformat": 4
 },
 "nbformat": 4,
 "nbformat_minor": 2
}
