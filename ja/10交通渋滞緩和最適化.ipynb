{
 "cells": [
  {
   "cell_type": "code",
   "execution_count": 1,
   "id": "b6f374e0",
   "metadata": {},
   "outputs": [],
   "source": [
    "import jijmodeling as jm"
   ]
  },
  {
   "cell_type": "code",
   "execution_count": 2,
   "id": "ba58f903",
   "metadata": {},
   "outputs": [],
   "source": [
    "E = jm.Placeholder(\"E\")\n",
    "P = jm.Placeholder(\"P\")\n",
    "C = jm.Placeholder(\"C\", shape=(P, E))\n",
    "\n",
    "N = jm.Placeholder(\"N\")\n",
    "x = jm.Binary(\"x\", shape=(N, P))\n",
    "\n",
    "i = jm.Element(\"i\", (0, N))\n",
    "p = jm.Element(\"p\", (0, P))\n",
    "s = jm.Element(\"s\", (0, E))"
   ]
  },
  {
   "cell_type": "code",
   "execution_count": 3,
   "id": "6996627c",
   "metadata": {},
   "outputs": [
    {
     "data": {
      "text/latex": [
       "$\\begin{alignat*}{4} \\text{Problem} & \\text{: traffic jam} \\\\\\min & \\quad \\sum_{s = 0 }^{E - 1} \\sum_{i = 0 }^{N - 1}\\sum_{p = 0 }^{P - 1} C_{s,p} \\cdot x_{i,p}^{2} \\\\\\text{s.t.} & \\\\& \\text{one-car} :\\\\ &\\quad \\quad \\sum_{:x_1 = 0 }^{P - 1} x_{i,:x_1} = 1,\\ \\forall i \\in \\left\\{ 0 ,\\ldots , N - 1 \\right\\} \\\\[8pt]&  x_{i_0,i_1} \\in \\{{0, 1\\}} \\end{alignat*}$"
      ],
      "text/plain": [
       "<jijmodeling.problem.Problem at 0x7fb27fd09790>"
      ]
     },
     "execution_count": 3,
     "metadata": {},
     "output_type": "execute_result"
    }
   ],
   "source": [
    "problem = jm.Problem(\"traffic jam\")\n",
    "problem += jm.Sum(s, (jm.Sum([i, p], C[s, p] * x[i, p])**2))\n",
    "\n",
    "problem += jm.Constraint(\"one-car\", x[i, :] == 1, forall=i)\n",
    "\n",
    "problem"
   ]
  },
  {
   "cell_type": "code",
   "execution_count": 4,
   "id": "200c79d6",
   "metadata": {},
   "outputs": [],
   "source": [
    "import networkx as nx\n",
    "import numpy as np"
   ]
  },
  {
   "cell_type": "code",
   "execution_count": 5,
   "id": "3ea3b51e",
   "metadata": {},
   "outputs": [
    {
     "data": {
      "image/png": "[encoded data removed]",
      "text/plain": [
       "<Figure size 432x288 with 1 Axes>"
      ]
     },
     "metadata": {},
     "output_type": "display_data"
    }
   ],
   "source": [
    "edges = [(0, 1), (0, 3), (0, 4), (1, 2), (2, 6), (3, 6), (4, 5), (5, 6)]\n",
    "edge_map = {e: i for i, e in enumerate(edges)}\n",
    "lengths = [1, 1, 1, 1, 1, 1, 1, 1]\n",
    "\n",
    "G = nx.Graph()\n",
    "for edge, length in zip(edges, lengths):\n",
    "    G.add_edge(*edge, length=length)\n",
    "\n",
    "nx.draw_networkx(G)"
   ]
  },
  {
   "cell_type": "code",
   "execution_count": 70,
   "id": "16668576",
   "metadata": {},
   "outputs": [],
   "source": [
    "def get_path_candidates():\n",
    "    start = [0, 0, 0]\n",
    "    goal = [6, 6, 6]\n",
    "    num_cars = len(start)\n",
    "    path_num = 3\n",
    "\n",
    "    path_map = {} # path -> index の map\n",
    "    path_edges = {} # path_index -> list of edge_index の map\n",
    "    car_path = {} # car_index -> list of path_index の map\n",
    "\n",
    "    for i in range(num_cars):\n",
    "        car_path[i] = []\n",
    "        # 短い方から path_num 個 の経路を取ってくる\n",
    "        paths = nx.shortest_simple_paths(G, source=start[i], target=goal[i], weight='length')\n",
    "        _path_index = 0\n",
    "        for path in paths:\n",
    "            _path_tuple = tuple(path)\n",
    "            path_map[_path_tuple] = path_map.get(_path_tuple, len(path_map))\n",
    "            car_path[i].append(path_map[_path_tuple])\n",
    "            _path_index += 1\n",
    "            if _path_index >= path_num:\n",
    "                break\n",
    "\n",
    "        # 経路をエッジで表現\n",
    "        for path, path_index in path_map.items():\n",
    "            path_edges[path_index] = [edge_map[node, path[i+1]] for i, node in enumerate(path[:-1])]\n",
    "\n",
    "    # Cを作成\n",
    "    C = np.zeros((len(edges), len(path_map)))\n",
    "    for path_index, edge_indices in path_edges.items():\n",
    "        for e in edge_indices:\n",
    "            C[e, path_index] = 1\n",
    "    \n",
    "    instance_data = {\n",
    "        \"C\": C,\n",
    "        \"P\": C.shape[1],\n",
    "        \"E\": C.shape[0],\n",
    "        \"N\": num_cars\n",
    "    }\n",
    "    \n",
    "    return instance_data, path_map, car_path, path_edges"
   ]
  },
  {
   "cell_type": "code",
   "execution_count": 71,
   "id": "f9f4747c",
   "metadata": {},
   "outputs": [],
   "source": [
    "instance_data, path_map, car_path, path_edges = get_path_candidates()"
   ]
  },
  {
   "cell_type": "code",
   "execution_count": 72,
   "id": "25a2acc3",
   "metadata": {},
   "outputs": [],
   "source": [
    "pyq_obj = problem.to_pyqubo(instance_data)"
   ]
  },
  {
   "cell_type": "code",
   "execution_count": 73,
   "id": "482424ba",
   "metadata": {},
   "outputs": [],
   "source": [
    "qubo, _ = pyq_obj.compile().to_qubo(feed_dict={\"one-car\": 6})"
   ]
  },
  {
   "cell_type": "code",
   "execution_count": 74,
   "id": "c5b91626",
   "metadata": {},
   "outputs": [],
   "source": [
    "import openjij as oj\n",
    "sampler = oj.SASampler()\n",
    "res = sampler.sample_qubo(qubo, num_reads=100)"
   ]
  },
  {
   "cell_type": "code",
   "execution_count": 75,
   "id": "f5db1981",
   "metadata": {},
   "outputs": [
    {
     "data": {
      "text/plain": [
       "DecodedSamples(feasibles = 100[/100], objective = 8.0, energy = -10.0)"
      ]
     },
     "execution_count": 75,
     "metadata": {},
     "output_type": "execute_result"
    }
   ],
   "source": [
    "decoded = problem.decode(res, instance_data)\n",
    "decoded"
   ]
  },
  {
   "cell_type": "code",
   "execution_count": 79,
   "id": "8361d48c",
   "metadata": {},
   "outputs": [
    {
     "data": {
      "text/plain": [
       "array([[0., 1., 0.],\n",
       "       [0., 0., 1.],\n",
       "       [1., 0., 0.]])"
      ]
     },
     "execution_count": 79,
     "metadata": {},
     "output_type": "execute_result"
    }
   ],
   "source": [
    "x_value = decoded.solutions[2]['x']\n",
    "x_value"
   ]
  },
  {
   "cell_type": "code",
   "execution_count": 86,
   "id": "bdbe5bb8",
   "metadata": {},
   "outputs": [],
   "source": [
    "path_map_inverse = {index: path for path, index in path_map.items()}\n",
    "car_selected_path = [path_map_inverse[p] for i, p in enumerate(np.where(x_value == 1)[1])]"
   ]
  },
  {
   "cell_type": "code",
   "execution_count": 87,
   "id": "25af0994",
   "metadata": {},
   "outputs": [
    {
     "data": {
      "text/plain": [
       "[(0, 1, 2, 6), (0, 4, 5, 6), (0, 3, 6)]"
      ]
     },
     "execution_count": 87,
     "metadata": {},
     "output_type": "execute_result"
    }
   ],
   "source": [
    "car_selected_path"
   ]
  },
  {
   "cell_type": "code",
   "execution_count": 92,
   "id": "e79d73cb",
   "metadata": {},
   "outputs": [
    {
     "name": "stdout",
     "output_type": "stream",
     "text": [
      "[(0, 1), (1, 2), (2, 6)]\n",
      "[(0, 4), (4, 5), (5, 6)]\n",
      "[(0, 3), (3, 6)]\n"
     ]
    },
    {
     "data": {
      "image/png": "[encoded data removed]",
      "text/plain": [
       "<Figure size 432x288 with 1 Axes>"
      ]
     },
     "metadata": {},
     "output_type": "display_data"
    }
   ],
   "source": [
    "import matplotlib.pyplot as plt\n",
    "route_colors = ['r', 'g', 'b']\n",
    "pos = nx.spring_layout(G)\n",
    "nx.draw_networkx(G, pos, width=2)\n",
    "for car_path, color in zip(car_selected_path, route_colors):\n",
    "    edge_list = [(p, car_path[i+1]) for i, p in enumerate(car_path[:-1])]\n",
    "    print(edge_list)\n",
    "    nx.draw_networkx_edges(G, pos, edgelist=edge_list, edge_color=color, alpha=0.5, width=5)\n",
    "plt.show()"
   ]
  },
  {
   "cell_type": "code",
   "execution_count": null,
   "id": "7af31494",
   "metadata": {},
   "outputs": [],
   "source": []
  }
 ],
 "metadata": {
  "kernelspec": {
   "display_name": "Python 3 (ipykernel)",
   "language": "python",
   "name": "python3"
  },
  "language_info": {
   "codemirror_mode": {
    "name": "ipython",
    "version": 3
   },
   "file_extension": ".py",
   "mimetype": "text/x-python",
   "name": "python",
   "nbconvert_exporter": "python",
   "pygments_lexer": "ipython3",
   "version": "3.9.9"
  }
 },
 "nbformat": 4,
 "nbformat_minor": 5
}
