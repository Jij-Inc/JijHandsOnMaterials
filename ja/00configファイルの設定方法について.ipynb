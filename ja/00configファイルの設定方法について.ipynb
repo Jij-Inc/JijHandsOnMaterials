{
 "cells": [
  {
   "cell_type": "markdown",
   "metadata": {},
   "source": [
    "# JijZeptを使うための設定について\n",
    "JijZeptには数多くのイジングソルバーがありますが、これらを使うためにはJijZeptのAPI keyが必要になります。この章ではその設定方法について説明します。\n",
    "英語版の説明が[JijZeptのドキュメント](https://www.documentation.jijzept.com/docs/jijzept_docs/sampler#set-up-samplers)に載っています。\n",
    "API keyはJijZeptの[ポータルサイト](https://portal.jijzept.com/#/sign_in)から取得してください。\n",
    "\n",
    "## 直接API keyを入力する方法。\n",
    "JijZeptのAPI keyは以下のように各ソルバーの引数に直接入力することができます。以下は`JijSASampler`の設定方法です。\n",
    "\n",
    "```python\n",
    "import jijzept as jz\n",
    "sampler = jz.JijSASampler(token='*** your API key ***', url='https://api.jijzept.com')\n",
    "```\n",
    "各samplerの初期化にはAPI keyと同時にJijZeptのURLも入力する必要があります。\n",
    "\n",
    "## config.tomlファイルを利用する方法\n",
    "`config.toml`ファイルを作成してそこに認証情報を書いておく方法も利用できます。まず、今ログインしているplayground環境で`config.toml`ファイルを作成します。\n",
    "最初に新規ファイルを作成します。左のサイドバーの部分で右クリックすると、プルダウンが現れるのでNew Fileを選択します。\n",
    "\n",
    "\n",
    "![](./images/00_config_01.png)\n",
    "\n",
    "\n",
    "次に新しくできたtextファイルを`config.toml`とリネームして、こちらのファイルに認証情報を記載します。なおファイル名は任意のもので構いません。\n",
    "\n",
    "![](./images/00_config_02.png)\n",
    "\n",
    "\n",
    "認証情報ですが、今作成したconfig.tomlファイルを開いて、以下の形式で入力します。\n",
    "\n",
    "```\n",
    "[default]\n",
    "url = \"https://api.jijzept.com/\"\n",
    "token = \"*** your API key ***\"\n",
    "```\n",
    "\n",
    "編集が終了したらメニューから保存をしてください。\n",
    "\n",
    "\n",
    "![](./images/00_config_03.png)\n",
    "\n",
    "これで`config.toml`の作成は終了となります。これを利用して以下のようにsamplerを初期化することができます。\n",
    "\n",
    "```python\n",
    "import jijzept as jz\n",
    "sampler = jz.JijSASampler(config='*** your config.toml path ***')\n",
    "```\n",
    "\n",
    "なお、`config.toml`のパスですが、実行するnotebookと同じ階層に`config.toml`が存在すれば単に`config=config.toml`とするだけで動作します。一方で、フルパスで指定したい場合は、最初にログインしたこの資料が存在するパスが、`/home/jovyan/JijHandsOnMaterials/ja/`となっています。これを利用して例えば、\n",
    "\n",
    "```python\n",
    "import jijzept as jz\n",
    "sampler = jz.JijSASampler(config='/home/jovyan/JijHandsOnMaterials/ja/config.toml')\n",
    "```\n",
    "\n",
    "というように記載することもできます。"
   ]
  },
  {
   "cell_type": "markdown",
   "metadata": {},
   "source": []
  }
 ],
 "metadata": {
  "language_info": {
   "name": "python"
  },
  "orig_nbformat": 4
 },
 "nbformat": 4,
 "nbformat_minor": 2
}
