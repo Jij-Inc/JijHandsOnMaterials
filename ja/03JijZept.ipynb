{
 "cells": [
  {
   "cell_type": "markdown",
   "id": "9317f32d",
   "metadata": {},
   "source": [
    "# JijZept デモンストレーション"
   ]
  },
  {
   "cell_type": "markdown",
   "id": "f6e01ba2",
   "metadata": {},
   "source": [
    "このnotebookでは、実際にJijZeptを用いて組合せ最適化問題を解いてみます。\n",
    "扱う題材として、「**会議室割り当て問題**」「**巡回セールスマン問題**」「**ナップザック問題**」を扱います。\n",
    "\n",
    "本チュートリアルを進めるにあたり、**自身のマシンにPython環境を構築する必要はありません**。\n",
    "\n",
    "現在開いているjupyterの環境に全て用意されています。"
   ]
  },
  {
   "cell_type": "markdown",
   "id": "b2ad514e",
   "metadata": {},
   "source": [
    "## 会議室割り当て問題 (グラフ彩色問題)\n",
    "\n",
    "\n",
    "![](https://raw.githubusercontent.com/Jij-Inc/JijHandsOnMaterials/handson-environment/ja/images/part1_jijzept_layer.png)\n",
    "\n",
    "$N$個の会議が予定されていますが、会議室は$K (K < N)$個しかありません。このとき、各会議を被らないようにうまく会議室に割り当てるにはどうすればよいでしょうか。\n",
    "\n",
    "例えば以下のような会議スケジュールがあるとします。\n",
    "\n",
    "|  Meeting ID  |  Start  | End |\n",
    "| ---- | ---- | --- |\n",
    "|  0  |  09:00  | 11:00 |\n",
    "|  1  |  10:00  | 11:30 |\n",
    "|  2  |  10:30  | 12:00 |\n",
    "|  3  |  14:00  | 15:00 |\n",
    "|  4  |  12:00  | 13:00 |\n",
    "|  5  |  11:00  | 11:45 |\n",
    "|  6  |  13:00  | 14:00 |\n",
    "|  7  |  11:45  | 13:00 |\n",
    "|  8  |  10:45  | 13:00 |\n",
    "|  9  |  10:00  | 11:00 |\n",
    "| 10  |  11:30  | 14:00 |\n",
    "| 11  |  11:30  | 13:00 |\n",
    "| 12  |  11:30  | 13:00 |\n",
    "| 13  |  14:00  | 15:00 |\n",
    "| 14  |  13:30  | 15:00 |\n",
    "| 15  |  13:00  | 15:00 |\n",
    "\n",
    "\n",
    "上記のように会議が16個予定されていますが、会議室が4つしかない場合を考えます。\n",
    "\n",
    "では、さっそく各会議がかぶらないようにするための会議室割り当てを最適化問題として定式化しましょう。"
   ]
  },
  {
   "cell_type": "markdown",
   "id": "010735fa",
   "metadata": {},
   "source": [
    "まず、数理最適化を行う場合は出力したい計画（ここでは会議をどの部屋に割り当てるか）を変数として表現します。今回の割り当てを以下の0-1変数で定義します。\n",
    "\n",
    "$$x_{v, i} \\in \\{0, 1\\}, v: \\text{会議}, i: \\text{部屋}$$\n",
    "\n",
    "ここで$x_{v, i}$は会議$v$を部屋$i$に割り当てるとき1そうでないとき0とする変数です。\n",
    "\n",
    "この定義により今回は$x$の各値を求めればよいことになります。このように計画に対応するこれから決める変数を「決定変数」と呼びます。\n",
    "\n",
    "次に各会議のスケジュールを反映するデータを用意します。\n",
    "会議 $v$を会議$w$の時間がかぶっているとき1でそうでないときに0となるデータ $a_{v, w}$を用意します。\n",
    "\n",
    "この$a$と$x$を用いて今回最小化しなくてはいけない数式（目的関数）は以下となります。\n",
    "\n",
    "$$\\sum_{v} \\sum_{w} \\sum_{i=1}^{K} a_{v,w} x_{v, i} x_{w, i}$$\n",
    "\n",
    "ここで$K$は部屋の数です。この数式は例えば\n",
    "- $a_{v, w} = 1$のとき => 両方1 ($x_{v, i} = 1, x_{w, i} = 1$) だと $a_{v,w} x_{v, i} x_{w, i} = 1$\n",
    "- $a_{v, w} = 1$のとき => 片方0 ($x_{v, i} = 0, x_{w, i} = 1$) だと $a_{v,w} x_{v, i} x_{w, i} = 0$\n",
    "- $a_{v, w} = 0$のとき => 両方1でも ($x_{v, i} = 0, x_{w, i} = 1$) だと $a_{v,w} x_{v, i} x_{w, i} = 0$\n",
    "\n",
    "となります。つまり会議の時間がかぶっている($a_{v,w} = 1$)とき、会議$v$と会議$w$を同じ部屋$i$に割り当ててしまう($x_{v, i} = 1, x_{w, i} = 1$)と先程の数式の値が大きくなってしまいます。目的関数が0であれば会議室にかぶりがなく各会議を割り当てることができます。\n",
    "\n",
    "しかし、これだけではどの部屋にも会議を割り当てないというのが答えとして出てくる可能性があるのでそれを防ぐ制約条件を設定します。\n",
    "\n",
    "それが\n",
    "\n",
    "$$\\sum_{i=1}^{K}x_{v, i} = 1, ~\\forall v$$\n",
    "\n",
    "という制約条件です。各会議に対して部屋の割り当ては一つのみということを意味します。\n",
    "\n",
    "まとめると解くべき最適化問題は以下です。\n",
    "\n",
    "$$\n",
    "\\min_x \\sum_{v} \\sum_{w} \\sum_{i=1}^{K} a_{v,w} x_{v, i} x_{w, i}\n",
    "$$\n",
    "\n",
    "$$\\sum_{i=1}^K x_{v, i} = 1,~\\forall v$$\n",
    "$$x_{v, i} \\in \\{0, 1\\}$$\n",
    "\n",
    "\n",
    "実はこの会議室割り当て問題は、各会議を頂点として、時間がかぶっている会議同士に線を引くとより最適化問題として見やすくなります。"
   ]
  },
  {
   "cell_type": "markdown",
   "id": "bce57a88",
   "metadata": {},
   "source": [
    "![](https://raw.githubusercontent.com/Jij-Inc/JijHandsOnMaterials/main/ja/images/meeting_graph.png)\n",
    "\n",
    "会議の時間割とグラフは\n",
    "\n",
    "- 各会議 <-> グラフのノード\n",
    "- 会議間に時間の被りがある <-> ノード間にエッジが存在\n",
    "\n",
    "という対応関係を持ちます。\n",
    "\n",
    "このようにグラフの問題に変換すると、\n",
    "\n",
    "- 会議を`会議に重複がない`ように`会議室を割り当てる` 問題\n",
    "\n",
    "という問題を\n",
    "\n",
    "- `繋がっているノードは別の色`になるように`ノードに色を塗る`問題 (グラフ彩色問題)\n",
    "\n",
    "に変換することができます。"
   ]
  },
  {
   "cell_type": "markdown",
   "id": "3094a401",
   "metadata": {},
   "source": [
    "### JijModelingを使った数理モデリング"
   ]
  },
  {
   "cell_type": "code",
   "execution_count": 26,
   "id": "ed33612a",
   "metadata": {},
   "outputs": [
    {
     "data": {
      "text/latex": [
       "$\\begin{alignat*}{4} \\text{Problem} & \\text{: graph coloring} \\\\\\min & \\quad \\sum_{v = 0 }^{N - 1}\\sum_{w = 0 }^{N - 1}\\sum_{i = 0 }^{K - 1} a_{v,w} \\cdot x_{v,i} \\cdot x_{w,i} \\\\\\text{s.t.} & \\\\& \\text{one-color} :\\\\ &\\quad \\quad \\sum_{i = 0 }^{K - 1} x_{v,i} = 1,\\ \\forall v \\in \\left\\{ 0 ,\\ldots , N - 1 \\right\\} \\\\[8pt]&  x_{i_0,i_1} \\in \\{{0, 1\\}},\\  x_{i_0,i_1} \\in \\{{0, 1\\}} \\end{alignat*}$"
      ],
      "text/plain": [
       "<jijmodeling.problem.Problem at 0x7f9ed0302850>"
      ]
     },
     "execution_count": 26,
     "metadata": {},
     "output_type": "execute_result"
    }
   ],
   "source": [
    "import jijmodeling as jm\n",
    "a = jm.Placeholder(\"a\", dim=2)\n",
    "N = a.shape[0].set_latex(\"N\") # meetingの数\n",
    "K = jm.Placeholder(\"K\")            # 部屋の数\n",
    "\n",
    "x = jm.Binary(\"x\", shape=(N, K)) # バイナリ変数 最適化する変数\n",
    "\n",
    "v, w = jm.Element(\"v\", (0, N)), jm.Element(\"w\", (0, N))\n",
    "i = jm.Element(\"i\", (0, K))\n",
    "\n",
    "\n",
    "# QUBOを作る\n",
    "problem = jm.Problem(\"graph coloring\")\n",
    "\n",
    "# Cost term\n",
    "problem += jm.Sum([v, w, i], a[v, w]*x[v, i] * x[w, i])\n",
    "\n",
    "# Constraint term\n",
    "problem += jm.Constraint(\"one-color\", jm.Sum(i, x[v, i]) == 1, forall=v)\n",
    "problem"
   ]
  },
  {
   "cell_type": "markdown",
   "id": "02624240",
   "metadata": {},
   "source": [
    "### インスタンスデータの作成\n",
    "JijModelingにて定義した変数である\n",
    "* $a_{v, w}$ (会議$v$、会議$w$のスケジュールが重複した際のペナルティ値)\n",
    "* $K$ (会議室の数)\n",
    "\n",
    "の値を設定します。"
   ]
  },
  {
   "cell_type": "code",
   "execution_count": 27,
   "id": "97d0afe3",
   "metadata": {},
   "outputs": [
    {
     "data": {
      "image/png": "[encoded data removed]",
      "text/plain": [
       "<Figure size 432x288 with 1 Axes>"
      ]
     },
     "metadata": {},
     "output_type": "display_data"
    }
   ],
   "source": [
    "from typing import Tuple\n",
    "import numpy as np\n",
    "import networkx as nx\n",
    "import matplotlib.pyplot as plt\n",
    "\n",
    "timetable = [\n",
    "    (9, 11),    (10, 11.5),\n",
    "    (10.5, 12), (14, 15),\n",
    "    (12, 13), (11, 11.7),\n",
    "    (13, 14),\n",
    "    (11.7, 13), (10, 11),\n",
    "    (11.5, 14), (11.5, 13),\n",
    "    (14, 15),\n",
    "    (13.5, 15), (13, 15),\n",
    "]\n",
    "\n",
    "edge_list = []\n",
    "adjacency_matrix = np.zeros((len(timetable), len(timetable)))\n",
    "\n",
    "def has_edge(meeting1: Tuple[float, float], meeting2: Tuple[float, float]):\n",
    "    if not meeting1[1] <= meeting2[0]:\n",
    "        if not meeting2[1] <= meeting1[0]:\n",
    "            return True\n",
    "    return False\n",
    "\n",
    "for u, meeting_u in enumerate(timetable[:-1]):\n",
    "    for _v, meeting_v in enumerate(timetable[u+1:]):\n",
    "        v = u + _v + 1\n",
    "        if has_edge(meeting_u, meeting_v):\n",
    "            edge_list.append((u, v))\n",
    "            adjacency_matrix[u, v] = 1\n",
    "            adjacency_matrix[v, u] = 1\n",
    "\n",
    "graph = nx.Graph()\n",
    "graph.add_edges_from(edge_list)\n",
    "nx.draw_networkx(graph)\n",
    "plt.show()"
   ]
  },
  {
   "cell_type": "code",
   "execution_count": 28,
   "id": "295d560a",
   "metadata": {},
   "outputs": [],
   "source": [
    "instance_data = {\n",
    "    \"a\": adjacency_matrix,\n",
    "    \"K\": 4\n",
    "}"
   ]
  },
  {
   "cell_type": "markdown",
   "id": "8338df9e",
   "metadata": {},
   "source": [
    "### JijZeptを使ってみる\n",
    "\n",
    "JijZeptを用いて上でモデリングした問題を解いてみます。\n",
    "\n",
    "以前のハンズオンでは、イジングマシンが扱える形式に変換する際に、制約条件を罰金項として\n",
    "$$\n",
    "\\sum_{v} \\sum_{w} \\sum_{i=1}^{K} a_{v,w} x_{v, i} x_{w, i}\n",
    "+A\\sum_v \\left(\\sum_{i=1}^K x_{v, i} -1\\right)^2\\\\\n",
    "x_{v, i} \\in \\{0, 1\\}\n",
    "$$\n",
    "\n",
    "![](https://raw.githubusercontent.com/Jij-Inc/JijHandsOnMaterials/handson-environment/ja/images/graph_coloring_qubo.png)\n",
    "\n",
    "と記述してから、$A$の値を経験と勘で頑張って調整する必要がありましたが、\n",
    "`search=True`のオプションを設定するだけで、**最適なパラメータを自動で探索**できます。"
   ]
  },
  {
   "cell_type": "code",
   "execution_count": 29,
   "id": "aeea5f35",
   "metadata": {},
   "outputs": [
    {
     "name": "stdout",
     "output_type": "stream",
     "text": [
      "uploading instance ...\n",
      "submitting query ...\n",
      "submitted to the queue.\n",
      "Your solution_id is 1e8fd294966b45408f2abf7dfefbc7cd.\n"
     ]
    }
   ],
   "source": [
    "import jijzept as jz\n",
    "import jijmodeling as jm\n",
    "sampler = jz.JijSASampler()\n",
    "# 等式で記述された制約を必ず満たすように探索するには、次のように`jz.JijSwapMovingSampler`を使うことができます\n",
    "#sampler = jz.JijSwapMovingSampler()\n",
    "# 今後、様々な量子デバイス、イジング計算機に対応予定となります。\n",
    "result = sampler.sample_model(problem, instance_data, search=True, num_reads=10)\n",
    "decoded = problem.decode(result, instance_data)"
   ]
  },
  {
   "cell_type": "markdown",
   "id": "259afc3c",
   "metadata": {},
   "source": [
    "パラメータを探索する過程を図示すると、制約条件の破れ (オレンジ線)を小さくしつつ、コスト関数 (青線)も小さくするようにJijZeptが動いているのがわかります。"
   ]
  },
  {
   "cell_type": "code",
   "execution_count": 30,
   "id": "49d21b3b",
   "metadata": {},
   "outputs": [
    {
     "data": {
      "image/png": "[encoded data removed]",
      "text/plain": [
       "<Figure size 432x288 with 1 Axes>"
      ]
     },
     "metadata": {
      "needs_background": "light"
     },
     "output_type": "display_data"
    }
   ],
   "source": [
    "# パラメータサーチにより得られた解の目的関数と制約条件の破れ一覧を表示\n",
    "plt.plot(list(range(0, len(decoded.objectives))), decoded.objectives, label='objective')\n",
    "plt.plot(list(range(0, len(decoded.constraint_violations))), [elem['one-color'] for elem in decoded.constraint_violations], label='constraints')\n",
    "plt.xlabel(\"steps\")\n",
    "plt.legend()\n",
    "plt.show()"
   ]
  },
  {
   "cell_type": "code",
   "execution_count": 31,
   "id": "48cd6986",
   "metadata": {},
   "outputs": [],
   "source": [
    "# 実行可能解 (制約を満たしている解) のみを取得します。\n",
    "feasibles = decoded.feasibles()"
   ]
  },
  {
   "cell_type": "code",
   "execution_count": 32,
   "id": "e7cd7b60",
   "metadata": {},
   "outputs": [
    {
     "data": {
      "image/png": "[encoded data removed]",
      "text/plain": [
       "<Figure size 432x288 with 1 Axes>"
      ]
     },
     "metadata": {
      "needs_background": "light"
     },
     "output_type": "display_data"
    }
   ],
   "source": [
    "def plot_timetable(timetable, solution):\n",
    "    rooms = solution\n",
    "    assignment = {i: r for i, r in enumerate(rooms)}\n",
    "    for meeting, room in assignment.items():\n",
    "        plt.plot([room - 0.3, room + 0.3], [timetable[meeting][0]]*2, color='gray')\n",
    "        plt.plot([room - 0.3, room + 0.3], [timetable[meeting][1]]*2, color='gray')\n",
    "        plt.fill_between([room - 0.3, room + 0.3], [timetable[meeting][0]]*2, [timetable[meeting][1]]*2)\n",
    "        plt.text(room, np.mean(timetable[meeting]), 'Meeting: '+ str(meeting), ha='center', fontsize=10)\n",
    "    plt.xticks(list(range(min(rooms), max(rooms)+1)))\n",
    "    plt.xlabel('Room', fontsize=13)\n",
    "    plt.ylabel('Time', fontsize=13)\n",
    "\n",
    "x_value = feasibles.solution[feasibles.objective.argmin()]['x']\n",
    "solution = np.where(x_value == 1)[1]\n",
    "plot_timetable(timetable, solution)\n",
    "plt.show()"
   ]
  },
  {
   "cell_type": "markdown",
   "id": "ed53ca01",
   "metadata": {},
   "source": [
    "`result.info`にて、最良の結果を出力した際のパラメータを表示できます。\n",
    "\n",
    "各パラメータはそれぞれ、\n",
    "$$\n",
    "\\min_x \\sum_{v} \\sum_{w} \\sum_{i=1}^{K} a_{v,w} x_{v, i} x_{w, i}\n",
    "+\\sum_v A^{\\mathrm{linear}}_v\\left(\\sum_{i=1}^K x_{v, i} -1\\right)+\\sum_v A^{\\mathrm{quad}}_v\\left(\\sum_{i=1}^K x_{v, i} -1\\right)^2\\\\\n",
    "x_{v, i} \\in \\{0, 1\\}\n",
    "$$\n",
    "の$A^{\\mathrm{linear}}_v$、$A^{\\mathrm{quad}}_v$に対応します。"
   ]
  },
  {
   "cell_type": "code",
   "execution_count": 33,
   "id": "e159cc9a",
   "metadata": {},
   "outputs": [
    {
     "name": "stdout",
     "output_type": "stream",
     "text": [
      "{'parameters': {'linear': {'one-color': [[[0], -2.5757575757575752], [[1], -1.837121212121212], [[2], 0.01893939393939359], [[3], -1.837121212121212], [[4], -2.5757575757575752], [[5], 0.01893939393939359], [[6], -2.5757575757575752], [[7], 0.01893939393939359], [[8], 2.5757575757575752], [[9], -1.837121212121212], [[10], -1.837121212121212], [[11], 2.594696969696969], [[12], -2.5757575757575752], [[13], -1.8181818181818181]]}, 'quad': {'one-color': [[[0], 6.212121212121212], [[1], 10.625], [[2], 8.80681818181818], [[3], 10.625], [[4], 6.212121212121212], [[5], 8.80681818181818], [[6], 6.212121212121212], [[7], 8.80681818181818], [[8], 6.212121212121212], [[9], 10.625], [[10], 10.625], [[11], 6.2310606060606055], [[12], 6.212121212121212], [[13], 1.8181818181818181]]}}, 'constraint_violations': {'one-color': 0.0}, 'objective': 0.0}\n"
     ]
    }
   ],
   "source": [
    "print(result.info['best_parameters'])"
   ]
  },
  {
   "cell_type": "markdown",
   "id": "c1a64cd2",
   "metadata": {},
   "source": [
    "## 巡回セールスマン問題\n",
    "\n",
    "複数の都市をなるべく最短経路で巡るにはどうすればよいか？\n",
    "\n",
    "![](https://raw.githubusercontent.com/Jij-Inc/JijHandsOnMaterials/handson-environment/ja/images/tsp1.png)\n",
    "![](https://raw.githubusercontent.com/Jij-Inc/JijHandsOnMaterials/handson-environment/ja/images/tsp2.png)\n",
    "\n",
    "### 定式化\n",
    "\n",
    "$$\n",
    "\\begin{aligned}\n",
    "\\min_x & \\sum_{i,j}d_{i,j}x_{i,t} x_{j,(t+1)\\mod n}\\\\\n",
    "\\mathrm{s.t.} &\\sum_t x_{i,t}=1, \\forall i\\\\\n",
    "&\\sum_i x_{i,t} = 1,~\\forall t\\\\\n",
    "&x_{i,t} \\in \\{0, 1\\}\n",
    "\\end{aligned}\n",
    "$$"
   ]
  },
  {
   "cell_type": "markdown",
   "id": "682ae27b",
   "metadata": {},
   "source": [
    "### インスタンスの作成"
   ]
  },
  {
   "cell_type": "code",
   "execution_count": 34,
   "id": "5ecce5a6",
   "metadata": {},
   "outputs": [
    {
     "data": {
      "image/png": "[encoded data removed]",
      "text/plain": [
       "<Figure size 432x288 with 1 Axes>"
      ]
     },
     "metadata": {
      "needs_background": "light"
     },
     "output_type": "display_data"
    }
   ],
   "source": [
    "import matplotlib.pyplot as plt\n",
    "import numpy as np\n",
    "\n",
    "# ランダムに都市を配置して距離行列を計算\n",
    "def tsp_distance(n: int):\n",
    "    x = np.random.uniform(0, 1, n)\n",
    "    y = np.random.uniform(0, 1, n)\n",
    "    XX, YY = np.meshgrid(x, y)\n",
    "    distance = np.sqrt((XX - XX.T)**2 + (YY - YY.T)**2)\n",
    "    return distance, (x, y)\n",
    "\n",
    "# n-都市 平面TSP\n",
    "n = 10\n",
    "\n",
    "distance, (x_pos, y_pos) = tsp_distance(n=n)\n",
    "\n",
    "plt.plot(x_pos, y_pos, 'o')\n",
    "plt.xlabel(\"x\", fontsize=15)\n",
    "plt.ylabel(\"y\", fontsize=15)\n",
    "plt.show()"
   ]
  },
  {
   "cell_type": "markdown",
   "id": "57dcff15",
   "metadata": {},
   "source": [
    "### JijModelingによる実装"
   ]
  },
  {
   "cell_type": "code",
   "execution_count": 35,
   "id": "5c7be6ce",
   "metadata": {},
   "outputs": [
    {
     "data": {
      "text/latex": [
       "$\\begin{alignat*}{4} \\text{Problem} & \\text{: tsp} \\\\\\min & \\quad \\sum_{i = 0 }^{n - 1}\\sum_{j = 0 }^{n - 1}\\sum_{t = 0 }^{n - 1} d_{i,j} \\cdot x_{i,t} \\cdot x_{j,t + 1 \\mod n} \\\\\\text{s.t.} & \\\\& \\text{one-city} :\\\\ &\\quad \\quad \\sum_{t = 0 }^{n - 1} x_{i,t} = 1,\\ \\forall i \\in \\left\\{ 0 ,\\ldots , n - 1 \\right\\} \\\\[8pt]& \\text{one-time} :\\\\ &\\quad \\quad \\sum_{i = 0 }^{n - 1} x_{i,t} = 1,\\ \\forall t \\in \\left\\{ 0 ,\\ldots , n - 1 \\right\\} \\\\[8pt]&  x_{i_0,i_1} \\in \\{{0, 1\\}},\\  x_{i_0,i_1} \\in \\{{0, 1\\}} \\end{alignat*}$"
      ],
      "text/plain": [
       "<jijmodeling.problem.Problem at 0x7f9e88cd6f10>"
      ]
     },
     "execution_count": 35,
     "metadata": {},
     "output_type": "execute_result"
    }
   ],
   "source": [
    "import jijmodeling as jm\n",
    "\n",
    "n = jm.Placeholder(\"n\")\n",
    "d = jm.Placeholder(\"d\", shape=(n, n))\n",
    "\n",
    "x = jm.Binary(\"x\", shape=(n, n))\n",
    "\n",
    "i = jm.Element(\"i\", (0, n))\n",
    "j = jm.Element(\"j\", (0, n))\n",
    "t = jm.Element(\"t\", (0, n))\n",
    "\n",
    "# problem object の作成\n",
    "problem = jm.Problem(\"tsp\")\n",
    "\n",
    "# 目的関数の追加\n",
    "problem += jm.Sum([i, j, t], d[i, j]*x[i, t]*x[j, (t+1) % n])\n",
    "# 等価な書き方\n",
    "# problem += jm.Sum(i, jm.Sum(j, jm.Sum(t, d[i, j]*x[i, t]*x[j, (t+1) % n])))\n",
    "\n",
    "# 2つの制約条件の追加\n",
    "problem += jm.Constraint(\"one-city\", jm.Sum(t, x[i, t]) == 1, forall=i)\n",
    "problem += jm.Constraint(\"one-time\", jm.Sum(i, x[i, t]) == 1, forall=t)\n",
    "problem"
   ]
  },
  {
   "cell_type": "code",
   "execution_count": 36,
   "id": "4870674c",
   "metadata": {},
   "outputs": [],
   "source": [
    "instance_data = {\n",
    "    \"d\": distance,\n",
    "    \"n\": len(distance)\n",
    "}"
   ]
  },
  {
   "cell_type": "code",
   "execution_count": 37,
   "id": "5104b81d",
   "metadata": {},
   "outputs": [
    {
     "name": "stdout",
     "output_type": "stream",
     "text": [
      "uploading instance ...\n",
      "submitting query ...\n",
      "submitted to the queue.\n",
      "Your solution_id is bfd02affb15d40d1ba44cd5b77f57ede.\n",
      "running...\n"
     ]
    }
   ],
   "source": [
    "import jijzept as jz\n",
    "import jijmodeling as jm\n",
    "sampler = jz.JijSASampler()\n",
    "result = sampler.sample_model(problem, instance_data, search=True, num_sweeps=10000, num_search=50)\n",
    "decoded = problem.decode(result, instance_data)"
   ]
  },
  {
   "cell_type": "code",
   "execution_count": 38,
   "id": "ca41c15e",
   "metadata": {},
   "outputs": [
    {
     "data": {
      "text/plain": [
       "DecodedSamples(feasibles = 42[/50], objective = 0.0, energy = -31.32611047101921)"
      ]
     },
     "execution_count": 38,
     "metadata": {},
     "output_type": "execute_result"
    }
   ],
   "source": [
    "decoded"
   ]
  },
  {
   "cell_type": "code",
   "execution_count": 39,
   "id": "7114659b",
   "metadata": {},
   "outputs": [
    {
     "data": {
      "image/png": "[encoded data removed]",
      "text/plain": [
       "<Figure size 432x288 with 1 Axes>"
      ]
     },
     "metadata": {
      "needs_background": "light"
     },
     "output_type": "display_data"
    }
   ],
   "source": [
    "# パラメータサーチにより得られた解の目的関数と制約条件の破れ一覧を表示\n",
    "plt.plot(list(range(0, len(decoded.objectives))), decoded.objectives, label='objective')\n",
    "plt.plot(list(range(0, len(decoded.constraint_violations))), [elem['one-city'] for elem in decoded.constraint_violations], label='constraints (one-city)')\n",
    "plt.plot(list(range(0, len(decoded.constraint_violations))), [elem['one-time'] for elem in decoded.constraint_violations], label='constraints (one-time)')\n",
    "plt.xlabel(\"steps\")\n",
    "plt.legend()\n",
    "plt.show()"
   ]
  },
  {
   "cell_type": "code",
   "execution_count": 40,
   "id": "e3e176e4",
   "metadata": {},
   "outputs": [
    {
     "data": {
      "text/plain": [
       "[<matplotlib.lines.Line2D at 0x7f9e89077250>]"
      ]
     },
     "execution_count": 40,
     "metadata": {},
     "output_type": "execute_result"
    },
    {
     "data": {
      "image/png": "[encoded data removed]",
      "text/plain": [
       "<Figure size 432x288 with 1 Axes>"
      ]
     },
     "metadata": {
      "needs_background": "light"
     },
     "output_type": "display_data"
    }
   ],
   "source": [
    "import numpy as np\n",
    "\n",
    "feasibles = decoded.feasibles()\n",
    "argmin_e = np.argmin(feasibles.objective)\n",
    "tour = np.where(feasibles[argmin_e].solution['x'].T == 1)[1]\n",
    "plt.plot(x_pos, y_pos, \"o\")\n",
    "plt.plot(x_pos[tour], y_pos[tour], \"-\")\n",
    "plt.plot(x_pos[[tour[-1], tour[0]]], y_pos[[tour[-1], tour[0]]], \"-\")"
   ]
  },
  {
   "cell_type": "markdown",
   "id": "e442980c",
   "metadata": {},
   "source": [
    "## ナップザック問題 (不等式の制約条件)"
   ]
  },
  {
   "cell_type": "markdown",
   "id": "7aeea3a3",
   "metadata": {},
   "source": [
    "容量の制約を守ったまま、なるべく優先度が高い荷物を多く詰めるにはどうすればよいか？\n",
    "\n",
    "![](https://raw.githubusercontent.com/Jij-Inc/JijHandsOnMaterials/handson-environment/ja/images/knapsack.png)"
   ]
  },
  {
   "cell_type": "markdown",
   "id": "8cca56c7",
   "metadata": {},
   "source": [
    "### 定式化"
   ]
  },
  {
   "cell_type": "code",
   "execution_count": 41,
   "id": "f904748a",
   "metadata": {},
   "outputs": [
    {
     "data": {
      "text/latex": [
       "$\\begin{alignat*}{4} \\text{Problem} & \\text{: knapsack} \\\\\\min & \\quad - \\sum_{i = 0 }^{n - 1} values_{i} \\cdot x_{i} \\\\\\text{s.t.} & \\\\& \\text{knapsack_constraint} :\\\\ &\\quad \\quad \\sum_{i = 0 }^{n - 1} weights_{i} \\cdot x_{i} \\leq capacity,\\\\[8pt]&  x_{i_0} \\in \\{{0, 1\\}} \\end{alignat*}$"
      ],
      "text/plain": [
       "<jijmodeling.problem.Problem at 0x7f9e88c7d6d0>"
      ]
     },
     "execution_count": 41,
     "metadata": {},
     "output_type": "execute_result"
    }
   ],
   "source": [
    "w = jm.Placeholder(\"weights\", dim=1)\n",
    "v = jm.Placeholder(\"values\", dim=1)\n",
    "n = jm.Placeholder(\"num_items\").set_latex(\"n\")\n",
    "c = jm.Placeholder(\"capacity\")\n",
    "x = jm.Binary(\"x\", shape=(n, ))\n",
    "# i: itemの添字\n",
    "i = jm.Element(\"i\", n)\n",
    "\n",
    "problem = jm.Problem(\"knapsack\")\n",
    "\n",
    "# objective function\n",
    "obj = jm.Sum(i, v[i] * x[i])\n",
    "problem += -1 * obj\n",
    "\n",
    "# Constraint: knapsack 制約\n",
    "const = jm.Constraint(\"knapsack_constraint\", jm.Sum(i, w[i] * x[i])  <= c)\n",
    "problem += const\n",
    "problem"
   ]
  },
  {
   "cell_type": "code",
   "execution_count": 42,
   "id": "a23f239b",
   "metadata": {},
   "outputs": [
    {
     "name": "stdout",
     "output_type": "stream",
     "text": [
      "uploading instance ...\n",
      "submitting query ...\n",
      "submitted to the queue.\n",
      "Your solution_id is bdf2ef05a86a467f8604cb3a96d01d7a.\n"
     ]
    },
    {
     "data": {
      "image/png": "[encoded data removed]",
      "text/plain": [
       "<Figure size 432x288 with 1 Axes>"
      ]
     },
     "metadata": {
      "needs_background": "light"
     },
     "output_type": "display_data"
    },
    {
     "name": "stdout",
     "output_type": "stream",
     "text": [
      "[1. 1. 1. 1. 1. 1. 1. 0. 1. 0.]\n"
     ]
    }
   ],
   "source": [
    "instance_data = {\n",
    "    \"weights\": [55.0, 10.0, 47.0, 5.0, 4.0, 50.0, 8.0, 61.0, 85.0, 87.0],\n",
    "    \"values\": [95.0, 4.0, 60.0, 32.0, 23.0, 72.0, 80.0, 62.0, 65.0, 46.0],\n",
    "    \"num_items\": 10,\n",
    "    \"capacity\": 269}\n",
    "\n",
    "import jijzept as jz\n",
    "import jijmodeling as jm\n",
    "sampler = jz.JijSASampler()\n",
    "result = sampler.sample_model(problem, instance_data, search=True, num_search=50)\n",
    "decoded = problem.decode(result, instance_data)\n",
    "\n",
    "# パラメータサーチにより得られた解の目的関数と制約条件の破れ一覧を表示\n",
    "plt.plot(list(range(0, len(decoded.objectives))), decoded.objectives, label='objective')\n",
    "plt.plot(list(range(0, len(decoded.constraint_violations))), [elem['knapsack_constraint'] for elem in decoded.constraint_violations], label='constraints')\n",
    "plt.plot(list(range(0, len(decoded.constraint_violations))), [-431]*len(decoded.constraint_violations), label='optimal')\n",
    "\n",
    "plt.xlabel(\"steps\")\n",
    "plt.legend()\n",
    "plt.show()\n",
    "\n",
    "# 得られた答えを表示\n",
    "feasibles = decoded.feasibles()\n",
    "argmin_e = np.argmin(feasibles.objective)\n",
    "print(feasibles[argmin_e].solution['x'])"
   ]
  },
  {
   "cell_type": "code",
   "execution_count": null,
   "id": "fd95fea7",
   "metadata": {},
   "outputs": [],
   "source": []
  }
 ],
 "metadata": {
  "kernelspec": {
   "display_name": "Python 3 (ipykernel)",
   "language": "python",
   "name": "python3"
  },
  "language_info": {
   "codemirror_mode": {
    "name": "ipython",
    "version": 3
   },
   "file_extension": ".py",
   "mimetype": "text/x-python",
   "name": "python",
   "nbconvert_exporter": "python",
   "pygments_lexer": "ipython3",
   "version": "3.9.10"
  }
 },
 "nbformat": 4,
 "nbformat_minor": 5
}
