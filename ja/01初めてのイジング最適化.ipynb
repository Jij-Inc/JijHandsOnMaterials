{
 "cells": [
  {
   "cell_type": "markdown",
   "id": "ae477ee8",
   "metadata": {},
   "source": [
    "# OpenJijを使ったイジング最適化"
   ]
  },
  {
   "cell_type": "markdown",
   "id": "cdcbcb3c",
   "metadata": {},
   "source": [
    "## イジング最適化を使うまでの開発フロー\n",
    "\n",
    "![](./images/ising_layer.png)"
   ]
  },
  {
   "cell_type": "markdown",
   "id": "77b95189",
   "metadata": {},
   "source": [
    "## OpenJijを使ったイジング最適化計算\n",
    "\n",
    "![](./images/openjij_layer.png)\n",
    "\n",
    "### イジングモデル\n",
    "\n",
    "$$E = \\sum_{i}\\sum_{j \\neq i}J_{i,j} \\sigma_i \\sigma_j + \\sum_i h_i \\sigma_i,~\\sigma_i \\in \\{-1, 1\\}$$\n",
    "\n",
    "### QUBO (Quadratic unconstrained binary optimization)\n",
    "\n",
    "$$\\min_q \\sum_{i, j}Q_{i,j} q_i q_j,~q_i \\in \\{0, 1\\}$$\n",
    "\n",
    "\n",
    "### イジング <-> QUBO 変換\n",
    "\n",
    "$$\\sigma_i = 2q_i-1$$\n",
    "\n",
    "\n",
    "### QUBOの式とグラフの対応関係\n",
    "\n",
    "- 各変数 $q_i$ $~\\Longleftrightarrow$　グラフのノード(頂点) $i$\n",
    "- 変数間の積 $Q_{i,j} q_i q_j~\\Longleftrightarrow$ 重み$Q_{i,j}$がついた$i,j$間のエッジ(辺) \n",
    "\n",
    "\n",
    "![](./images/4bitQUBO.png)"
   ]
  },
  {
   "cell_type": "code",
   "execution_count": 1,
   "id": "0b6022bb",
   "metadata": {},
   "outputs": [],
   "source": [
    "import openjij as oj\n",
    "\n",
    "# SA : Simulated Annealing\n",
    "sampler = oj.SASampler()\n",
    "\n",
    "# SQA : Simulated Quantum annelling\n",
    "# sampler = oj.SQASampler()"
   ]
  },
  {
   "cell_type": "code",
   "execution_count": 2,
   "id": "2de79918",
   "metadata": {},
   "outputs": [],
   "source": [
    "# QUBOの生成\n",
    "\n",
    "qubo = {(\"q0\", \"q1\"): -2, (\"q1\", \"q2\"): 1, (\"q2\", \"q3\"): 3, (\"q3\", \"q0\"): -1, (\"q2\", \"q2\"): 2}  # Note: q2 * q2 = q2 (q2 in {0, 1})"
   ]
  },
  {
   "cell_type": "code",
   "execution_count": 3,
   "id": "fde8f80d",
   "metadata": {},
   "outputs": [],
   "source": [
    "# samplerを使って解く\n",
    "\n",
    "response = sampler.sample_qubo(qubo)"
   ]
  },
  {
   "cell_type": "code",
   "execution_count": 4,
   "id": "312698f3",
   "metadata": {},
   "outputs": [
    {
     "data": {
      "text/plain": [
       "{'q0': 1, 'q1': 1, 'q2': 0, 'q3': 1}"
      ]
     },
     "execution_count": 4,
     "metadata": {},
     "output_type": "execute_result"
    }
   ],
   "source": [
    "response.samples()[0]"
   ]
  },
  {
   "cell_type": "markdown",
   "id": "a77b97f5",
   "metadata": {},
   "source": [
    "![](./images/4bitQUBOAnswer.png)"
   ]
  },
  {
   "cell_type": "markdown",
   "id": "f3377641",
   "metadata": {},
   "source": [
    "## 会議室割り当て問題 (グラフ彩色問題)\n",
    "\n",
    "![](./images/part1_jijmodeling_layer.png)\n",
    "\n",
    "$N$個の会議が予定されていますが、会議室は$K (K < N)$個しかない場合、各会議を被らないようにうまく会議室に割り当てましょう。例えば以下のような会議スケジュールがあるとします。\n",
    "\n",
    "|  Meeting ID  |  Start  | End |\n",
    "| ---- | ---- | --- |\n",
    "|  0  |  09:00  | 11:00 |\n",
    "|  1  |  10:00  | 11:30 |\n",
    "|  2  |  10:30  | 12:00 |\n",
    "|  3  |  14:00  | 15:00 |\n",
    "|  4  |  12:00  | 13:00 |\n",
    "|  5  |  11:00  | 11:45 |\n",
    "|  6  |  13:00  | 14:00 |\n",
    "|  7  |  11:45  | 13:00 |\n",
    "|  8  |  10:45  | 13:00 |\n",
    "|  9  |  10:00  | 11:00 |\n",
    "| 10  |  11:30  | 14:00 |\n",
    "| 11  |  11:30  | 13:00 |\n",
    "| 12  |  11:30  | 13:00 |\n",
    "| 13  |  14:00  | 15:00 |\n",
    "| 14  |  13:30  | 15:00 |\n",
    "| 15  |  13:00  | 15:00 |\n",
    "\n",
    "\n",
    "上記のように会議が16個予定されていますが、会議室が4つしかない場合を考えます。\n",
    "\n",
    "では、さっそく各会議がかぶらないようにするための会議室割り当てを最適化問題として定式化しましょう。"
   ]
  },
  {
   "cell_type": "markdown",
   "id": "3a18fc1f",
   "metadata": {},
   "source": [
    "まず、数理最適化を行う場合は出力したい計画（ここでは会議をどの部屋に割り当てるか）を変数として表現します。今回の割り当てを以下の0-1変数で定義します。\n",
    "\n",
    "$$x_{v, i} \\in \\{0, 1\\}, v: \\text{会議}, i: \\text{部屋}$$\n",
    "\n",
    "ここで$x_{v, i}$は会議$v$を部屋$i$に割り当てるとき1そうでないとき0とする変数です。\n",
    "\n",
    "この定義により今回は$x$の各値を求めればよいことになります。このように計画に対応するこれから決める変数を「決定変数」と呼びます。\n",
    "\n",
    "次に各会議のスケジュールを反映するデータを用意します。\n",
    "会議 $v$を会議$w$の時間がかぶっているとき1でそうでないときに0となるデータ $a_{v, w}$を用意します。\n",
    "\n",
    "この$a$と$x$を用いて今回最小化しなくてはいけない数式（目的関数）は以下となります。\n",
    "\n",
    "$$\\sum_{v} \\sum_{w} \\sum_{i=1}^{K} a_{v,w} x_{v, i} x_{w, i}$$\n",
    "\n",
    "ここで$K$は部屋の数です。この数式は例えば\n",
    "- $a_{v, w} = 1$のとき => 両方1 ($x_{v, i} = 1, x_{w, i} = 1$) だと $a_{v,w} x_{v, i} x_{w, i} = 1$\n",
    "- $a_{v, w} = 1$のとき => 片方0 ($x_{v, i} = 0, x_{w, i} = 1$) だと $a_{v,w} x_{v, i} x_{w, i} = 0$\n",
    "- $a_{v, w} = 0$のとき => 両方1でも ($x_{v, i} = 0, x_{w, i} = 1$) だと $a_{v,w} x_{v, i} x_{w, i} = 0$\n",
    "\n",
    "となります。つまり会議の時間がかぶっている($a_{v,w} = 1$)とき、会議$v$と会議$w$を同じ部屋$i$に割り当ててしまう($x_{v, i} = 1, x_{w, i} = 1$)と先程の数式の値が大きくなってしまいます。目的関数が0であれば会議室にかぶりがなく各会議を割り当てることができます。\n",
    "\n",
    "しかし、これだけではどの部屋にも会議を割り当てないというのが答えとして出てくる可能性があるのでそれを防ぐ制約条件を設定します。\n",
    "\n",
    "それが\n",
    "\n",
    "$$\\sum_{i=1}^{K}x_{v, i} = 1, ~\\forall v$$\n",
    "\n",
    "という制約条件です。各会議に対して部屋の割り当ては一つのみということを意味します。\n",
    "\n",
    "まとめると解くべき最適化問題は以下です。\n",
    "\n",
    "$$\n",
    "\\min_x \\sum_{v} \\sum_{w} \\sum_{i=1}^{K} a_{v,w} x_{v, i} x_{w, i}\n",
    "$$\n",
    "\n",
    "$$\\sum_{i=1}^K x_{v, i} = 1,~\\forall v$$\n",
    "$$x_{v, i} \\in \\{0, 1\\}$$\n",
    "\n",
    "\n",
    "実はこの会議室割り当て問題は、各会議を頂点として、時間がかぶっている会議同士に線を引くとより最適化問題として見やすくなります。"
   ]
  },
  {
   "cell_type": "markdown",
   "id": "20c9b8b8",
   "metadata": {},
   "source": [
    "![](./images/meeting_graph.png)\n",
    "\n",
    "会議の時間割とグラフは\n",
    "\n",
    "- 各会議 <-> グラフのノード\n",
    "- 会議間に時間の被りがある <-> ノード間にエッジが存在\n",
    "\n",
    "という対応関係を持ちます。\n",
    "\n",
    "このようにグラフの問題に変換すると、\n",
    "\n",
    "- 会議を`会議に重複がない`ように`会議室を割り当てる` 問題\n",
    "\n",
    "という問題を\n",
    "\n",
    "- `繋がっているノードは別の色`になるように`ノードに色を塗る`問題 (グラフ彩色問題)\n",
    "\n",
    "に変換することができます。"
   ]
  },
  {
   "cell_type": "markdown",
   "id": "407f7187",
   "metadata": {},
   "source": [
    "### QUBOへの変換\n",
    "\n",
    "制約条件を罰金項へ変換\n",
    "\n",
    "$$\n",
    "\\min_x \\sum_{v} \\sum_{w} \\sum_{i=1}^{K} a_{v,w} x_{v, i} x_{w, i}\n",
    "+A\\sum_v \\left(\\sum_{i=1}^K x_{v, i} -1\\right)^2\\\\\n",
    "x_{v, i} \\in \\{0, 1\\}\n",
    "$$\n",
    "\n",
    "![](./images/graph_coloring_qubo.png)\n"
   ]
  },
  {
   "cell_type": "markdown",
   "id": "102d51c5",
   "metadata": {},
   "source": [
    "## OpenJijで解いてみよう\n",
    "\n",
    "先程の会議スケジュールを頂点と線で書いたグラフで表示してみましょう。以下のセルを Shift + Enter で実行してみてください。"
   ]
  },
  {
   "cell_type": "code",
   "execution_count": 5,
   "id": "87ea7f81",
   "metadata": {},
   "outputs": [
    {
     "data": {
      "image/png": "[encoded data removed]",
      "text/plain": [
       "<Figure size 432x288 with 1 Axes>"
      ]
     },
     "metadata": {},
     "output_type": "display_data"
    }
   ],
   "source": [
    "from typing import Tuple\n",
    "import numpy as np\n",
    "import networkx as nx\n",
    "import matplotlib.pyplot as plt\n",
    "\n",
    "timetable = [\n",
    "    (9, 11),    (10, 11.5),\n",
    "    (10.5, 12), (14, 15),\n",
    "    (12, 13), (11, 11.7),\n",
    "    (13, 14),\n",
    "    (11.7, 13), (10, 11),\n",
    "    (11.5, 14), (11.5, 13),\n",
    "    (14, 15),\n",
    "    (13.5, 15), (13, 15),\n",
    "]\n",
    "\n",
    "edge_list = []\n",
    "adjacency_matrix = np.zeros((len(timetable), len(timetable)))\n",
    "\n",
    "def has_edge(meeting1: Tuple[float, float], meeting2: Tuple[float, float]):\n",
    "    if not meeting1[1] <= meeting2[0]:\n",
    "        if not meeting2[1] <= meeting1[0]:\n",
    "            return True\n",
    "    return False\n",
    "\n",
    "for u, meeting_u in enumerate(timetable[:-1]):\n",
    "    for _v, meeting_v in enumerate(timetable[u+1:]):\n",
    "        v = u + _v + 1\n",
    "        if has_edge(meeting_u, meeting_v):\n",
    "            edge_list.append((u, v))\n",
    "            adjacency_matrix[u, v] = 1\n",
    "            adjacency_matrix[v, u] = 1\n",
    "\n",
    "graph = nx.Graph()\n",
    "graph.add_edges_from(edge_list)\n",
    "nx.draw_networkx(graph)\n",
    "plt.show()"
   ]
  },
  {
   "cell_type": "markdown",
   "id": "7fd44cb3",
   "metadata": {},
   "source": [
    "### JijModelingを使ったQUBOモデリング"
   ]
  },
  {
   "cell_type": "code",
   "execution_count": 6,
   "id": "21233004",
   "metadata": {},
   "outputs": [],
   "source": [
    "import jijmodeling as jm"
   ]
  },
  {
   "cell_type": "code",
   "execution_count": 7,
   "id": "7718444d",
   "metadata": {},
   "outputs": [],
   "source": [
    "a = jm.Placeholder(\"a\", dim=2)\n",
    "N = a.shape[0].set_latex(\"N\")\n",
    "C = jm.Placeholder(\"C\")\n",
    "\n",
    "x = jm.Binary(\"x\", shape=(N, C))\n",
    "\n",
    "v, w = jm.Element(\"v\", (0, N)), jm.Element(\"w\", (0, N))\n",
    "i = jm.Element(\"i\", (0, C))\n",
    "\n",
    "problem = jm.Problem(\"graph coloring\")\n",
    "\n",
    "# Cost term\n",
    "problem += jm.Sum([v, w, i], a[v, w]*x[v, i] * x[w, i])\n",
    "\n",
    "# Penalty term\n",
    "problem += jm.Penalty(\"one-color\",(jm.Sum(i, x[v, i]) - 1)**2, forall=v)"
   ]
  },
  {
   "cell_type": "code",
   "execution_count": 9,
   "id": "060ca577",
   "metadata": {},
   "outputs": [],
   "source": [
    "# PyQUBOへの変換\n",
    "ph_value = {\n",
    "    \"n\": len(timetable),\n",
    "    \"a\": adjacency_matrix,\n",
    "    \"C\": 4\n",
    "}\n",
    "pyq_obj = problem.to_pyqubo(ph_value=ph_value)"
   ]
  },
  {
   "cell_type": "code",
   "execution_count": 10,
   "id": "046e10c3",
   "metadata": {},
   "outputs": [],
   "source": [
    "qubo, const = pyq_obj.compile().to_qubo(feed_dict={\"one-color\": 1})"
   ]
  },
  {
   "cell_type": "code",
   "execution_count": 11,
   "id": "bf81d35e",
   "metadata": {},
   "outputs": [],
   "source": [
    "response = sampler.sample_qubo(qubo)"
   ]
  },
  {
   "cell_type": "code",
   "execution_count": 12,
   "id": "005000ab",
   "metadata": {},
   "outputs": [],
   "source": [
    "decoded = problem.decode(response, ph_value=ph_value)"
   ]
  },
  {
   "cell_type": "code",
   "execution_count": 13,
   "id": "ed4dcc3b",
   "metadata": {},
   "outputs": [
    {
     "data": {
      "text/plain": [
       "{'x': array([[0., 0., 0., 1.],\n",
       "        [1., 0., 0., 0.],\n",
       "        [0., 0., 1., 0.],\n",
       "        [1., 0., 0., 0.],\n",
       "        [0., 0., 1., 0.],\n",
       "        [0., 0., 0., 1.],\n",
       "        [1., 0., 0., 0.],\n",
       "        [0., 0., 0., 1.],\n",
       "        [0., 1., 0., 0.],\n",
       "        [0., 1., 0., 0.],\n",
       "        [1., 0., 0., 0.],\n",
       "        [0., 1., 0., 0.],\n",
       "        [0., 0., 1., 0.],\n",
       "        [0., 0., 0., 1.]])}"
      ]
     },
     "execution_count": 13,
     "metadata": {},
     "output_type": "execute_result"
    }
   ],
   "source": [
    "decoded.solutions[0]"
   ]
  },
  {
   "cell_type": "markdown",
   "id": "20b95c35",
   "metadata": {},
   "source": [
    "## JijModelingを使った数理モデリング"
   ]
  },
  {
   "cell_type": "code",
   "execution_count": 14,
   "id": "af1143f8",
   "metadata": {},
   "outputs": [
    {
     "data": {
      "text/latex": [
       "$\\begin{alignat*}{4} \\text{Problem} & \\text{: graph coloring} \\\\\\min & \\quad \\sum_{v = 0 }^{N - 1}\\sum_{w = 0 }^{N - 1}\\sum_{i = 0 }^{C - 1} a_{v,w} \\cdot x_{v,i} \\cdot x_{w,i} \\\\\\text{s.t.} & \\\\& \\text{one-color} :\\\\ &\\quad \\quad \\sum_{i = 0 }^{C - 1} x_{v,i} = 1,\\ \\forall v \\in \\left\\{ 0 ,\\ldots , N - 1 \\right\\} \\\\[8pt]&  x_{i_0,i_1} \\in \\{{0, 1\\}},\\  x_{i_0,i_1} \\in \\{{0, 1\\}} \\end{alignat*}$"
      ],
      "text/plain": [
       "<jijmodeling.problem.Problem at 0x1165607f0>"
      ]
     },
     "execution_count": 14,
     "metadata": {},
     "output_type": "execute_result"
    }
   ],
   "source": [
    "a = jm.Placeholder(\"a\", dim=2)\n",
    "N = a.shape[0].set_latex(\"N\")\n",
    "C = jm.Placeholder(\"C\")\n",
    "\n",
    "x = jm.Binary(\"x\", shape=(N, C))\n",
    "\n",
    "v, w = jm.Element(\"v\", (0, N)), jm.Element(\"w\", (0, N))\n",
    "i = jm.Element(\"i\", (0, C))\n",
    "\n",
    "problem = jm.Problem(\"graph coloring\")\n",
    "\n",
    "# Cost term\n",
    "problem += jm.Sum([v, w, i], a[v, w]*x[v, i] * x[w, i])\n",
    "\n",
    "# Penalty term\n",
    "problem += jm.Constraint(\"one-color\", jm.Sum(i, x[v, i]) == 1, forall=v)\n",
    "problem"
   ]
  },
  {
   "cell_type": "code",
   "execution_count": 15,
   "id": "aed2e09a",
   "metadata": {},
   "outputs": [],
   "source": [
    "pyq_obj = problem.to_pyqubo(ph_value=ph_value)\n",
    "pyq_compiled = pyq_obj.compile()"
   ]
  },
  {
   "cell_type": "code",
   "execution_count": 16,
   "id": "cb381c7c",
   "metadata": {},
   "outputs": [],
   "source": [
    "qubo, const = pyq_compiled.to_qubo(feed_dict={\"one-color\": 3})"
   ]
  },
  {
   "cell_type": "code",
   "execution_count": 17,
   "id": "8306eea2",
   "metadata": {},
   "outputs": [],
   "source": [
    "response = sampler.sample_qubo(qubo)\n",
    "decoded = problem.decode(response, ph_value=ph_value)"
   ]
  },
  {
   "cell_type": "code",
   "execution_count": 18,
   "id": "8ee3c6f2",
   "metadata": {},
   "outputs": [
    {
     "data": {
      "text/plain": [
       "DecodedSamples(feasibles = 1[/1], objective = 0.0, energy = -42.0)"
      ]
     },
     "execution_count": 18,
     "metadata": {},
     "output_type": "execute_result"
    }
   ],
   "source": [
    "decoded"
   ]
  },
  {
   "cell_type": "code",
   "execution_count": 19,
   "id": "b38ebbeb",
   "metadata": {},
   "outputs": [
    {
     "data": {
      "image/png": "[encoded data removed]",
      "text/plain": [
       "<Figure size 432x288 with 1 Axes>"
      ]
     },
     "metadata": {
      "needs_background": "light"
     },
     "output_type": "display_data"
    }
   ],
   "source": [
    "def plot_timetable(timetable, solution):\n",
    "    rooms = solution\n",
    "    assignment = {i: r for i, r in enumerate(rooms)}\n",
    "    for meeting, room in assignment.items():\n",
    "        plt.plot([room - 0.3, room + 0.3], [timetable[meeting][0]]*2, color='gray')\n",
    "        plt.plot([room - 0.3, room + 0.3], [timetable[meeting][1]]*2, color='gray')\n",
    "        plt.fill_between([room - 0.3, room + 0.3], [timetable[meeting][0]]*2, [timetable[meeting][1]]*2)\n",
    "        plt.text(room, np.mean(timetable[meeting]), 'Meeting: '+ str(meeting), ha='center', fontsize=10)\n",
    "    plt.xticks(list(range(min(rooms), max(rooms)+1)))\n",
    "    plt.xlabel('Room', fontsize=13)\n",
    "    plt.ylabel('Time', fontsize=13)\n",
    "\n",
    "x_value = decoded.solutions[0]['x']\n",
    "solution = np.where(x_value == 1)[1]\n",
    "plot_timetable(timetable, solution)\n",
    "plt.show()"
   ]
  },
  {
   "cell_type": "markdown",
   "id": "ae9cd3b0",
   "metadata": {},
   "source": [
    "## パラメータ調整"
   ]
  },
  {
   "cell_type": "code",
   "execution_count": 21,
   "id": "804777fc",
   "metadata": {},
   "outputs": [
    {
     "data": {
      "text/plain": [
       "DecodedSamples(feasibles = 21[/30], objective = 0.0, energy = -14.0)"
      ]
     },
     "execution_count": 21,
     "metadata": {},
     "output_type": "execute_result"
    }
   ],
   "source": [
    "degree = np.sum(adjacency_matrix, axis=0)\n",
    "qubo, const = pyq_compiled.to_qubo(feed_dict={\"one-color\": 1})\n",
    "\n",
    "response = sampler.sample_qubo(qubo, num_reads=30)\n",
    "decoded = problem.decode(response, ph_value=ph_value)\n",
    "decoded"
   ]
  },
  {
   "cell_type": "code",
   "execution_count": 22,
   "id": "9973cb17",
   "metadata": {},
   "outputs": [
    {
     "data": {
      "text/plain": [
       "array([0., 0., 0., 0., 0., 0., 0., 0., 0., 0., 0., 0., 0., 0., 0., 0., 0.,\n",
       "       0., 0., 0., 0., 0., 0., 0., 0., 0., 0., 0., 0., 0.])"
      ]
     },
     "execution_count": 22,
     "metadata": {},
     "output_type": "execute_result"
    }
   ],
   "source": [
    "decoded.objectives"
   ]
  },
  {
   "cell_type": "code",
   "execution_count": 24,
   "id": "242a8165",
   "metadata": {},
   "outputs": [],
   "source": [
    "param_strangth = np.linspace(0.5, 5, 20)\n",
    "num_reads = 30\n",
    "objective = []\n",
    "const_violation = []\n",
    "num_feasible = []\n",
    "for p in param_strangth:\n",
    "    qubo, const = pyq_compiled.to_qubo(feed_dict={\"one-color\": p})\n",
    "    response = sampler.sample_qubo(qubo, num_reads=num_reads)\n",
    "    decoded = problem.decode(response, ph_value=ph_value)\n",
    "    objective.append(np.mean(decoded.objectives))\n",
    "    const_violation.append(np.mean([violation['one-color'] for violation in decoded.constraint_violations]))\n",
    "    num_feasible.append(len(decoded.feasibles()))"
   ]
  },
  {
   "cell_type": "code",
   "execution_count": 25,
   "id": "22b79c2c",
   "metadata": {},
   "outputs": [
    {
     "data": {
      "text/plain": [
       "Text(0, 0.5, 'number of feasible')"
      ]
     },
     "execution_count": 25,
     "metadata": {},
     "output_type": "execute_result"
    },
    {
     "data": {
      "image/png": "[encoded data removed]",
      "text/plain": [
       "<Figure size 432x288 with 1 Axes>"
      ]
     },
     "metadata": {
      "needs_background": "light"
     },
     "output_type": "display_data"
    }
   ],
   "source": [
    "plt.plot(param_strangth, num_feasible)\n",
    "plt.xlabel(\"parameter strangth\")\n",
    "plt.ylabel(\"number of feasible\")"
   ]
  },
  {
   "cell_type": "code",
   "execution_count": 26,
   "id": "921f03cc",
   "metadata": {},
   "outputs": [
    {
     "data": {
      "text/plain": [
       "[]"
      ]
     },
     "execution_count": 26,
     "metadata": {},
     "output_type": "execute_result"
    },
    {
     "data": {
      "image/png": "[encoded data removed]",
      "text/plain": [
       "<Figure size 432x288 with 2 Axes>"
      ]
     },
     "metadata": {
      "needs_background": "light"
     },
     "output_type": "display_data"
    }
   ],
   "source": [
    "fig = plt.figure()\n",
    "ax1 = fig.add_subplot(111)\n",
    "ax2 = ax1.twinx()\n",
    "\n",
    "ax1.plot(param_strangth, objective, label=\"Objective value\")\n",
    "ax1.set_ylabel(\"Objective value\")\n",
    "ax2.plot(param_strangth, np.array(const_violation)**2, c=\"g\", label=\"Penalty value\")\n",
    "\n",
    "handler1, label1 = ax1.get_legend_handles_labels()\n",
    "handler2, label2 = ax2.get_legend_handles_labels()\n",
    "ax1.legend(handler1 + handler2, label1 + label2)\n",
    "plt.plot()"
   ]
  },
  {
   "cell_type": "code",
   "execution_count": null,
   "id": "bfc613da",
   "metadata": {},
   "outputs": [],
   "source": []
  }
 ],
 "metadata": {
  "kernelspec": {
   "display_name": "Python 3 (ipykernel)",
   "language": "python",
   "name": "python3"
  },
  "language_info": {
   "codemirror_mode": {
    "name": "ipython",
    "version": 3
   },
   "file_extension": ".py",
   "mimetype": "text/x-python",
   "name": "python",
   "nbconvert_exporter": "python",
   "pygments_lexer": "ipython3",
   "version": "3.9.7"
  }
 },
 "nbformat": 4,
 "nbformat_minor": 5
}
